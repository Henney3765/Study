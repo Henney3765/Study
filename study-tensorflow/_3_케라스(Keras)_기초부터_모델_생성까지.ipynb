{
  "cells": [
    {
      "cell_type": "markdown",
      "metadata": {
        "id": "YmY-0QeUYcaa"
      },
      "source": [
        "# 케라스(Keras) 기초부터 모델 생성까지\n",
        "\n",
        "<img src=\"https://s3.amazonaws.com/keras.io/img/keras-logo-2018-large-1200.png\">\n",
        "\n",
        "- 파이썬으로 작성된 고수준 신경망 API로 TensorFlow, CNTK, 혹은 Theano와 함께 사용 가능\n",
        "- 사용자 친화성, 모듈성, 확장성을 통해 빠르고 간편한 프로토타이핑 가능\n",
        "- 컨볼루션 신경망, 순환 신경망, 그리고 둘의 조합까지 모두 지원\n",
        "- CPU와 GPU에서 매끄럽게 실행"
      ]
    },
    {
      "cell_type": "code",
      "execution_count": 1,
      "metadata": {
        "id": "qBkF9tvAbX08"
      },
      "outputs": [
        {
          "data": {
            "text/plain": [
              "'2.6.0'"
            ]
          },
          "execution_count": 1,
          "metadata": {},
          "output_type": "execute_result"
        }
      ],
      "source": [
        "import numpy as np\n",
        "import tensorflow as tf\n",
        "\n",
        "tf.__version__"
      ]
    },
    {
      "cell_type": "markdown",
      "metadata": {
        "id": "ih4Nb7nMbfMc"
      },
      "source": [
        "레이어들을 import하는 방식 (1)\n",
        "- 일일이 import 하지 않아도 됨\n",
        "\n",
        "- 코드가 다소 길어질 수 있음"
      ]
    },
    {
      "cell_type": "code",
      "execution_count": 2,
      "metadata": {
        "id": "76J3cta0bd0e"
      },
      "outputs": [
        {
          "data": {
            "text/plain": [
              "'2.6.0'"
            ]
          },
          "execution_count": 2,
          "metadata": {},
          "output_type": "execute_result"
        }
      ],
      "source": [
        "from tensorflow import keras\n",
        "\n",
        "keras.__version__"
      ]
    },
    {
      "cell_type": "code",
      "execution_count": 3,
      "metadata": {
        "id": "JZondHPTb6Vx"
      },
      "outputs": [
        {
          "data": {
            "text/plain": [
              "<keras.layers.core.Dense at 0x7f990d9e68b0>"
            ]
          },
          "execution_count": 3,
          "metadata": {},
          "output_type": "execute_result"
        }
      ],
      "source": [
        "keras.layers.Dense(10, activation='sigmoid')"
      ]
    },
    {
      "cell_type": "code",
      "execution_count": 4,
      "metadata": {
        "id": "inaUuk6Nb84X"
      },
      "outputs": [
        {
          "data": {
            "text/plain": [
              "<keras.engine.training.Model at 0x7f990d9e6b50>"
            ]
          },
          "execution_count": 4,
          "metadata": {},
          "output_type": "execute_result"
        }
      ],
      "source": [
        "keras.Model()"
      ]
    },
    {
      "cell_type": "code",
      "execution_count": 6,
      "metadata": {
        "id": "NBNQZ7GxcF2H"
      },
      "outputs": [
        {
          "data": {
            "text/plain": [
              "<keras.engine.sequential.Sequential at 0x7f990e2fe700>"
            ]
          },
          "execution_count": 6,
          "metadata": {},
          "output_type": "execute_result"
        }
      ],
      "source": [
        "keras.models.Sequential()"
      ]
    },
    {
      "cell_type": "markdown",
      "metadata": {
        "id": "XseyoEwjbrO-"
      },
      "source": [
        "레이어들을 import하는 방식 (2)\n",
        "- 일일이 import 해야함\n",
        "- 코드가 간결"
      ]
    },
    {
      "cell_type": "code",
      "execution_count": 7,
      "metadata": {
        "id": "W8WLjvCZbwoF"
      },
      "outputs": [],
      "source": [
        "from tensorflow.keras.layers import Dense, Input, Flatten, Activation\n",
        "from tensorflow.keras.models import Sequential\n",
        "from tensorflow.keras import Model"
      ]
    },
    {
      "cell_type": "code",
      "execution_count": 9,
      "metadata": {
        "id": "nYcV0CnVcWJO"
      },
      "outputs": [
        {
          "data": {
            "text/plain": [
              "<keras.layers.core.Dense at 0x7f990e20cd90>"
            ]
          },
          "execution_count": 9,
          "metadata": {},
          "output_type": "execute_result"
        }
      ],
      "source": [
        "Dense(10, activation='relu')"
      ]
    },
    {
      "cell_type": "code",
      "execution_count": 10,
      "metadata": {
        "id": "RMd9TR6FcWDr"
      },
      "outputs": [
        {
          "data": {
            "text/plain": [
              "<keras.layers.core.Flatten at 0x7f990e3e7550>"
            ]
          },
          "execution_count": 10,
          "metadata": {},
          "output_type": "execute_result"
        }
      ],
      "source": [
        "Flatten(input_shape=[28, 28])"
      ]
    },
    {
      "cell_type": "code",
      "execution_count": 12,
      "metadata": {},
      "outputs": [
        {
          "data": {
            "text/plain": [
              "<KerasTensor: shape=(None, 2) dtype=float32 (created by layer 'input_2')>"
            ]
          },
          "execution_count": 12,
          "metadata": {},
          "output_type": "execute_result"
        }
      ],
      "source": [
        "X_train = np.random.rand(5500, 2)\n",
        "\n",
        "Input(shape=X_train.shape[1:])"
      ]
    },
    {
      "cell_type": "markdown",
      "metadata": {
        "id": "1Qz5gkr70p12"
      },
      "source": [
        "## 주요 레이어"
      ]
    },
    {
      "cell_type": "markdown",
      "metadata": {
        "id": "Vl0XJyRvbNh5"
      },
      "source": [
        "### Dense\n",
        "- Fully-Connected Layer\n",
        "\n",
        "- 노드수(유닛수), 활성화 함수 등을 지정\n",
        "\n",
        "- name을 통한 레이어간 구분 가능\n",
        "\n",
        "- 기본적으로  \n",
        "  'Glorot_uniform' 가중치, zeros bias로 초기화\n",
        "  - kernel_initializer 인자를 통해 다른 가중치 초기화를 진행할 수 있음"
      ]
    },
    {
      "cell_type": "code",
      "execution_count": 13,
      "metadata": {
        "id": "0By3apmYYe31"
      },
      "outputs": [],
      "source": [
        "dense = Dense(10, activation='relu', name='Dense Layer')"
      ]
    },
    {
      "cell_type": "code",
      "execution_count": 14,
      "metadata": {
        "id": "KUAMqoGNd9gq"
      },
      "outputs": [
        {
          "data": {
            "text/plain": [
              "<keras.layers.core.Dense at 0x7f990e3e7f40>"
            ]
          },
          "execution_count": 14,
          "metadata": {},
          "output_type": "execute_result"
        }
      ],
      "source": [
        "dense"
      ]
    },
    {
      "cell_type": "code",
      "execution_count": 15,
      "metadata": {
        "id": "nhb-kQGzhJWC"
      },
      "outputs": [],
      "source": [
        "dense2 = Dense(10, activation='softmax')"
      ]
    },
    {
      "cell_type": "code",
      "execution_count": 16,
      "metadata": {
        "id": "IF_zVkbnhJPz"
      },
      "outputs": [
        {
          "data": {
            "text/plain": [
              "<keras.layers.core.Dense at 0x7f990e3e7e80>"
            ]
          },
          "execution_count": 16,
          "metadata": {},
          "output_type": "execute_result"
        }
      ],
      "source": [
        "dense2"
      ]
    },
    {
      "cell_type": "markdown",
      "metadata": {
        "id": "v6kPbw7ZJ0W5"
      },
      "source": [
        "### Activation\n",
        "- Dense layer에서 미리 활성화함수를 지정할 수도 있지만 때에 따라서 따로 레이어를 만들어줄 수 있음"
      ]
    },
    {
      "cell_type": "code",
      "execution_count": 17,
      "metadata": {
        "id": "71iUDTGUJ8vu"
      },
      "outputs": [
        {
          "data": {
            "text/plain": [
              "<keras.layers.core.Activation at 0x7f9906fea9a0>"
            ]
          },
          "execution_count": 17,
          "metadata": {},
          "output_type": "execute_result"
        }
      ],
      "source": [
        "dense = Dense(10, kernel_initializer='he_normal', name='Dense Layer')\n",
        "dense = Activation(dense)\n",
        "dense"
      ]
    },
    {
      "cell_type": "markdown",
      "metadata": {
        "id": "NYDu0hcJejJh"
      },
      "source": [
        "### Flatten\n",
        "- 배치 크기(또는 데이터 크기)를 제외하고 데이터를 1차원으로 쭉 펼치는 작업\n",
        "\n",
        "- 예시)\n",
        "        (128, 3, 2, 2) ---> (128, 12)\n",
        "      "
      ]
    },
    {
      "cell_type": "code",
      "execution_count": 18,
      "metadata": {
        "id": "3HzBfkjRd-dN"
      },
      "outputs": [
        {
          "data": {
            "text/plain": [
              "<keras.layers.core.Flatten at 0x7f990e59f850>"
            ]
          },
          "execution_count": 18,
          "metadata": {},
          "output_type": "execute_result"
        }
      ],
      "source": [
        "Flatten(input_shape=(28, 28))"
      ]
    },
    {
      "cell_type": "markdown",
      "metadata": {
        "id": "gREcwh2cg1Zc"
      },
      "source": [
        "### Input \n",
        "- 모델의 입력을 정의\n",
        "\n",
        "- shape, dtype을 포함\n",
        "\n",
        "- 하나의 모델은 여러 개의 입력을 가질 수 있음\n",
        "\n",
        "- summary() 메소드를 통해서는 보이지 않음"
      ]
    },
    {
      "cell_type": "code",
      "execution_count": 19,
      "metadata": {
        "id": "2_kWKUMUefMf"
      },
      "outputs": [],
      "source": [
        "input_1 = Input(shape=(28, 28), dtype=tf.float32)\n",
        "input_2 = Input(shape=(8, ), dtype=tf.float32)"
      ]
    },
    {
      "cell_type": "code",
      "execution_count": 20,
      "metadata": {
        "id": "1ErOXHCgh6gq"
      },
      "outputs": [
        {
          "data": {
            "text/plain": [
              "<KerasTensor: shape=(None, 28, 28) dtype=float32 (created by layer 'input_3')>"
            ]
          },
          "execution_count": 20,
          "metadata": {},
          "output_type": "execute_result"
        }
      ],
      "source": [
        "input_1"
      ]
    },
    {
      "cell_type": "code",
      "execution_count": 21,
      "metadata": {
        "id": "ic2vspIbh87y"
      },
      "outputs": [
        {
          "data": {
            "text/plain": [
              "<KerasTensor: shape=(None, 8) dtype=float32 (created by layer 'input_4')>"
            ]
          },
          "execution_count": 21,
          "metadata": {},
          "output_type": "execute_result"
        }
      ],
      "source": [
        "input_2"
      ]
    },
    {
      "cell_type": "markdown",
      "metadata": {
        "id": "_BMMAUoKjVC6"
      },
      "source": [
        "## 모델 구성 방법\n",
        "- Sequential()\n",
        "\n",
        "- 서브클래싱(Subclassing)\n",
        "\n",
        "- 함수형 API"
      ]
    },
    {
      "cell_type": "markdown",
      "metadata": {
        "id": "QckCD5TQjubf"
      },
      "source": [
        "### Sequential()\n",
        "\n",
        "- 모델이 순차적으로 진행할 때 사용\n",
        "\n",
        "- 간단한 방법\n",
        "  - Sequential 객체 생성 후, **add**를 통한 방법\n",
        "  \n",
        "  - Sequential 인자에 한번에 추가\n",
        "\n",
        "- 다중 입력 및 출력이 존재하는 등의 복잡한 모델을 구성할 수 없음\n"
      ]
    },
    {
      "cell_type": "code",
      "execution_count": 22,
      "metadata": {
        "id": "0TaLg9w4h9_Z"
      },
      "outputs": [],
      "source": [
        "from tensorflow.keras.layers import Dense, Input, Flatten\n",
        "from tensorflow.keras.models import Sequential, Model\n",
        "from tensorflow.keras.utils import plot_model "
      ]
    },
    {
      "cell_type": "code",
      "execution_count": 23,
      "metadata": {
        "id": "AaZWV6DckLz-"
      },
      "outputs": [],
      "source": [
        "model = Sequential()\n",
        "model.add(Input(shape=(28, 28)))\n",
        "model.add(Dense(300, activation='relu'))\n",
        "model.add(Dense(100, activation='relu'))\n",
        "model.add(Dense(10, activation='softmax'))"
      ]
    },
    {
      "cell_type": "markdown",
      "metadata": {
        "id": "uPelUwFwk-ap"
      },
      "source": [
        "모델 구조 확인\n",
        "- model 객체의 **summary()** 이용"
      ]
    },
    {
      "cell_type": "code",
      "execution_count": 24,
      "metadata": {
        "id": "11qLpBoRkVd6"
      },
      "outputs": [
        {
          "name": "stdout",
          "output_type": "stream",
          "text": [
            "Model: \"sequential_1\"\n",
            "_________________________________________________________________\n",
            "Layer (type)                 Output Shape              Param #   \n",
            "=================================================================\n",
            "dense_3 (Dense)              (None, 28, 300)           8700      \n",
            "_________________________________________________________________\n",
            "dense_4 (Dense)              (None, 28, 100)           30100     \n",
            "_________________________________________________________________\n",
            "dense_5 (Dense)              (None, 28, 10)            1010      \n",
            "=================================================================\n",
            "Total params: 39,810\n",
            "Trainable params: 39,810\n",
            "Non-trainable params: 0\n",
            "_________________________________________________________________\n"
          ]
        }
      ],
      "source": [
        "model.summary()"
      ]
    },
    {
      "cell_type": "code",
      "execution_count": 30,
      "metadata": {
        "id": "4AO6KrJzlAwh"
      },
      "outputs": [],
      "source": [
        "# plot_model(model)"
      ]
    },
    {
      "cell_type": "code",
      "execution_count": 31,
      "metadata": {
        "id": "ezAsiEPhJWsU"
      },
      "outputs": [],
      "source": [
        "# plot_model(model, to_file='model1.jpg')"
      ]
    },
    {
      "cell_type": "code",
      "execution_count": 28,
      "metadata": {
        "id": "ktw3lIKKlDx5"
      },
      "outputs": [],
      "source": [
        "model = Sequential([Input(shape=(28, 28), name='Input'),\n",
        "                    Dense(300, activation='relu', name='Dense1'),\n",
        "                    Dense(100, activation='relu', name='Dense2'),\n",
        "                    Dense(10, activation='softmax', name='Output')])"
      ]
    },
    {
      "cell_type": "code",
      "execution_count": 29,
      "metadata": {
        "id": "SqNs_lvWlrfg"
      },
      "outputs": [
        {
          "name": "stdout",
          "output_type": "stream",
          "text": [
            "Model: \"sequential_2\"\n",
            "_________________________________________________________________\n",
            "Layer (type)                 Output Shape              Param #   \n",
            "=================================================================\n",
            "Dense1 (Dense)               (None, 28, 300)           8700      \n",
            "_________________________________________________________________\n",
            "Dense2 (Dense)               (None, 28, 100)           30100     \n",
            "_________________________________________________________________\n",
            "Output (Dense)               (None, 28, 10)            1010      \n",
            "=================================================================\n",
            "Total params: 39,810\n",
            "Trainable params: 39,810\n",
            "Non-trainable params: 0\n",
            "_________________________________________________________________\n"
          ]
        }
      ],
      "source": [
        "model.summary()"
      ]
    },
    {
      "cell_type": "code",
      "execution_count": 32,
      "metadata": {
        "id": "ePBTYE0FltI_"
      },
      "outputs": [],
      "source": [
        "# plot_model(model)"
      ]
    },
    {
      "cell_type": "code",
      "execution_count": 33,
      "metadata": {
        "id": "ohU5iTldJOXT"
      },
      "outputs": [],
      "source": [
        "# plot_model(model, to_file='model2.jpg')"
      ]
    },
    {
      "cell_type": "markdown",
      "metadata": {
        "id": "ZM04XyfbrBpX"
      },
      "source": [
        "### 함수형 API\n",
        "\n",
        "- 가장 권장되는 방벚\n",
        "\n",
        "- 모델을 복잡하고, 유연하게 구성 가능\n",
        "\n",
        "- 다중 입출력을 다룰 수 있음"
      ]
    },
    {
      "cell_type": "code",
      "execution_count": 35,
      "metadata": {
        "id": "0XjcLyjetLdh"
      },
      "outputs": [],
      "source": [
        "from tensorflow.keras.layers import Dense, Input, Flatten\n",
        "from tensorflow.keras.models import Model\n",
        "from tensorflow.keras.utils import plot_model "
      ]
    },
    {
      "cell_type": "code",
      "execution_count": 36,
      "metadata": {
        "id": "IvJZX1mbtZNm"
      },
      "outputs": [],
      "source": [
        "# 단일 입력, 단일 출력\n",
        "inputs = Input(shape=(28, 28, 1))\n",
        "\n",
        "x = Flatten(input_shape=(28, 28, 1))(inputs)\n",
        "x = Dense(300, activation='relu')(x)\n",
        "x = Dense(100, activation='relu')(x)\n",
        "x = Dense(10, activation='softmax')(x)"
      ]
    },
    {
      "cell_type": "code",
      "execution_count": 39,
      "metadata": {
        "id": "_C4-YXaYtZG2"
      },
      "outputs": [],
      "source": [
        "model = Model(inputs=inputs, outputs=x)"
      ]
    },
    {
      "cell_type": "code",
      "execution_count": 40,
      "metadata": {
        "id": "541mCIP_utZ0"
      },
      "outputs": [
        {
          "name": "stdout",
          "output_type": "stream",
          "text": [
            "Model: \"model_1\"\n",
            "_________________________________________________________________\n",
            "Layer (type)                 Output Shape              Param #   \n",
            "=================================================================\n",
            "input_6 (InputLayer)         [(None, 28, 28, 1)]       0         \n",
            "_________________________________________________________________\n",
            "flatten_2 (Flatten)          (None, 784)               0         \n",
            "_________________________________________________________________\n",
            "dense_6 (Dense)              (None, 300)               235500    \n",
            "_________________________________________________________________\n",
            "dense_7 (Dense)              (None, 100)               30100     \n",
            "_________________________________________________________________\n",
            "dense_8 (Dense)              (None, 10)                1010      \n",
            "=================================================================\n",
            "Total params: 266,610\n",
            "Trainable params: 266,610\n",
            "Non-trainable params: 0\n",
            "_________________________________________________________________\n"
          ]
        }
      ],
      "source": [
        "model.summary()"
      ]
    },
    {
      "cell_type": "code",
      "execution_count": 41,
      "metadata": {
        "id": "9eqHbjseuzmi"
      },
      "outputs": [],
      "source": [
        "# plot_model(model)"
      ]
    },
    {
      "cell_type": "code",
      "execution_count": 42,
      "metadata": {
        "id": "4zp-khCAJ_Rg"
      },
      "outputs": [],
      "source": [
        "# plot_model(model, to_file='model3.jpg)"
      ]
    },
    {
      "cell_type": "code",
      "execution_count": 43,
      "metadata": {
        "id": "3iAC6QhRwsBn"
      },
      "outputs": [],
      "source": [
        "from tensorflow.keras.layers import Concatenate\n",
        "\n",
        "# Deep and Wide Model\n",
        "input_layer = Input(shape=(28, 8))\n",
        "hidden1 = Dense(100, activation='relu')(input_layer)\n",
        "hidden2 = Dense(30, activation='relu')(hidden1)\n",
        "concat = Concatenate()([input_layer, hidden2])\n",
        "output = Dense(1)(concat)\n",
        "\n",
        "model = Model(inputs=[input_layer], outputs=[output])"
      ]
    },
    {
      "cell_type": "code",
      "execution_count": 44,
      "metadata": {
        "id": "c2VgxtTgwr5_"
      },
      "outputs": [
        {
          "name": "stdout",
          "output_type": "stream",
          "text": [
            "Model: \"model_2\"\n",
            "__________________________________________________________________________________________________\n",
            "Layer (type)                    Output Shape         Param #     Connected to                     \n",
            "==================================================================================================\n",
            "input_7 (InputLayer)            [(None, 28, 8)]      0                                            \n",
            "__________________________________________________________________________________________________\n",
            "dense_9 (Dense)                 (None, 28, 100)      900         input_7[0][0]                    \n",
            "__________________________________________________________________________________________________\n",
            "dense_10 (Dense)                (None, 28, 30)       3030        dense_9[0][0]                    \n",
            "__________________________________________________________________________________________________\n",
            "concatenate (Concatenate)       (None, 28, 38)       0           input_7[0][0]                    \n",
            "                                                                 dense_10[0][0]                   \n",
            "__________________________________________________________________________________________________\n",
            "dense_11 (Dense)                (None, 28, 1)        39          concatenate[0][0]                \n",
            "==================================================================================================\n",
            "Total params: 3,969\n",
            "Trainable params: 3,969\n",
            "Non-trainable params: 0\n",
            "__________________________________________________________________________________________________\n"
          ]
        }
      ],
      "source": [
        "model.summary()"
      ]
    },
    {
      "cell_type": "code",
      "execution_count": 45,
      "metadata": {
        "id": "rMPkFz43xvwA"
      },
      "outputs": [],
      "source": [
        "# plot_model(model)"
      ]
    },
    {
      "cell_type": "code",
      "execution_count": 46,
      "metadata": {
        "id": "Mcq5LtfcKBh_"
      },
      "outputs": [],
      "source": [
        "# plot_model(model, to_file='model4.jpg)"
      ]
    },
    {
      "cell_type": "code",
      "execution_count": 47,
      "metadata": {
        "id": "wvtGiFj6x6qa"
      },
      "outputs": [],
      "source": [
        "# 다중 입력, 단일 출력\n",
        "input_1 = Input(shape=(10, 10), name='Input 1')\n",
        "input_2 = Input(shape=(10, 28), name='Input 2')\n",
        "\n",
        "hidden_1 = Dense(100, activation='relu')(input_2)\n",
        "hidden_2 = Dense(10, activation='relu')(hidden_1)\n",
        "concat = Concatenate()([input_1, hidden_2])\n",
        "output = Dense(1, activation='sigmoid', name='Output')(concat)\n",
        "\n",
        "model = Model(inputs=[input_1, input_2], outputs=[output])"
      ]
    },
    {
      "cell_type": "code",
      "execution_count": 48,
      "metadata": {
        "id": "aVvTOFzfx61O"
      },
      "outputs": [
        {
          "name": "stdout",
          "output_type": "stream",
          "text": [
            "Model: \"model_3\"\n",
            "__________________________________________________________________________________________________\n",
            "Layer (type)                    Output Shape         Param #     Connected to                     \n",
            "==================================================================================================\n",
            "Input 2 (InputLayer)            [(None, 10, 28)]     0                                            \n",
            "__________________________________________________________________________________________________\n",
            "dense_12 (Dense)                (None, 10, 100)      2900        Input 2[0][0]                    \n",
            "__________________________________________________________________________________________________\n",
            "Input 1 (InputLayer)            [(None, 10, 10)]     0                                            \n",
            "__________________________________________________________________________________________________\n",
            "dense_13 (Dense)                (None, 10, 10)       1010        dense_12[0][0]                   \n",
            "__________________________________________________________________________________________________\n",
            "concatenate_1 (Concatenate)     (None, 10, 20)       0           Input 1[0][0]                    \n",
            "                                                                 dense_13[0][0]                   \n",
            "__________________________________________________________________________________________________\n",
            "Output (Dense)                  (None, 10, 1)        21          concatenate_1[0][0]              \n",
            "==================================================================================================\n",
            "Total params: 3,931\n",
            "Trainable params: 3,931\n",
            "Non-trainable params: 0\n",
            "__________________________________________________________________________________________________\n"
          ]
        }
      ],
      "source": [
        "model.summary()"
      ]
    },
    {
      "cell_type": "code",
      "execution_count": 49,
      "metadata": {
        "id": "nfxZETTvx6zE"
      },
      "outputs": [],
      "source": [
        "# plot_model(model)"
      ]
    },
    {
      "cell_type": "code",
      "execution_count": null,
      "metadata": {
        "id": "xkJlrolMKD6B"
      },
      "outputs": [],
      "source": [
        "# plot_model(model, to_file='model5.jpg)"
      ]
    },
    {
      "cell_type": "code",
      "execution_count": 51,
      "metadata": {
        "id": "qGorWfShzuYS"
      },
      "outputs": [],
      "source": [
        "# 단일 입력, 다중 출력\n",
        "input_ = Input(shape=(10, 10), name='Input_')\n",
        "hidden1 = Dense(100, activation='relu')(input_)\n",
        "hidden2 = Dense(10, activation='relu')(hidden1)\n",
        "output = Dense(1, activation='sigmoid', name='output')(hidden2)\n",
        "sub_out = Dense(1, name='sum_output')(hidden2)\n",
        "\n",
        "model = Model(inputs=[input_], outputs=[output, sub_out])"
      ]
    },
    {
      "cell_type": "code",
      "execution_count": 53,
      "metadata": {
        "id": "r-VZlGGczugL"
      },
      "outputs": [
        {
          "name": "stdout",
          "output_type": "stream",
          "text": [
            "Model: \"model_4\"\n",
            "__________________________________________________________________________________________________\n",
            "Layer (type)                    Output Shape         Param #     Connected to                     \n",
            "==================================================================================================\n",
            "Input_ (InputLayer)             [(None, 10, 10)]     0                                            \n",
            "__________________________________________________________________________________________________\n",
            "dense_16 (Dense)                (None, 10, 100)      1100        Input_[0][0]                     \n",
            "__________________________________________________________________________________________________\n",
            "dense_17 (Dense)                (None, 10, 10)       1010        dense_16[0][0]                   \n",
            "__________________________________________________________________________________________________\n",
            "output (Dense)                  (None, 10, 1)        11          dense_17[0][0]                   \n",
            "__________________________________________________________________________________________________\n",
            "sum_output (Dense)              (None, 10, 1)        11          dense_17[0][0]                   \n",
            "==================================================================================================\n",
            "Total params: 2,132\n",
            "Trainable params: 2,132\n",
            "Non-trainable params: 0\n",
            "__________________________________________________________________________________________________\n"
          ]
        }
      ],
      "source": [
        "model.summary()"
      ]
    },
    {
      "cell_type": "code",
      "execution_count": 54,
      "metadata": {
        "id": "VWiRsHIB0ROK"
      },
      "outputs": [],
      "source": [
        "# plot_model(model)"
      ]
    },
    {
      "cell_type": "code",
      "execution_count": 55,
      "metadata": {
        "id": "121rkvNOKF43"
      },
      "outputs": [],
      "source": [
        "# plot_model(model, to_file='model6.jpg')"
      ]
    },
    {
      "cell_type": "code",
      "execution_count": 56,
      "metadata": {
        "id": "i31xM7skx6xD"
      },
      "outputs": [],
      "source": [
        "# 다중 입력, 다중 출력\n",
        "input_1 = Input(shape=(10, 10), name='Input 1')\n",
        "input_2 = Input(shape=(10, 28), name='Input 2')\n",
        "\n",
        "hidden1 = Dense(100, activation='relu')(input_2)\n",
        "hidden2 = Dense(10, activation='relu')(hidden1)\n",
        "concat = Concatenate()([input_1, hidden2])\n",
        "output = Dense(1, activation='sigmoid', name='Main_Output')(concat)\n",
        "sub_out = Dense(1, name='Sub_Output')(hidden2)\n",
        "\n",
        "model = Model(inputs=[input_1, input_2], outputs=[output, sub_out])"
      ]
    },
    {
      "cell_type": "code",
      "execution_count": 57,
      "metadata": {
        "id": "tmD5BP2izGQJ"
      },
      "outputs": [
        {
          "name": "stdout",
          "output_type": "stream",
          "text": [
            "Model: \"model_5\"\n",
            "__________________________________________________________________________________________________\n",
            "Layer (type)                    Output Shape         Param #     Connected to                     \n",
            "==================================================================================================\n",
            "Input 2 (InputLayer)            [(None, 10, 28)]     0                                            \n",
            "__________________________________________________________________________________________________\n",
            "dense_18 (Dense)                (None, 10, 100)      2900        Input 2[0][0]                    \n",
            "__________________________________________________________________________________________________\n",
            "Input 1 (InputLayer)            [(None, 10, 10)]     0                                            \n",
            "__________________________________________________________________________________________________\n",
            "dense_19 (Dense)                (None, 10, 10)       1010        dense_18[0][0]                   \n",
            "__________________________________________________________________________________________________\n",
            "concatenate_2 (Concatenate)     (None, 10, 20)       0           Input 1[0][0]                    \n",
            "                                                                 dense_19[0][0]                   \n",
            "__________________________________________________________________________________________________\n",
            "Main_Output (Dense)             (None, 10, 1)        21          concatenate_2[0][0]              \n",
            "__________________________________________________________________________________________________\n",
            "Sub_Output (Dense)              (None, 10, 1)        11          dense_19[0][0]                   \n",
            "==================================================================================================\n",
            "Total params: 3,942\n",
            "Trainable params: 3,942\n",
            "Non-trainable params: 0\n",
            "__________________________________________________________________________________________________\n"
          ]
        }
      ],
      "source": [
        "model.summary()"
      ]
    },
    {
      "cell_type": "code",
      "execution_count": 58,
      "metadata": {
        "id": "0UjQwGT-x6Bo"
      },
      "outputs": [],
      "source": [
        "# plot_model(model)"
      ]
    },
    {
      "cell_type": "code",
      "execution_count": 59,
      "metadata": {
        "id": "QpuecYvrKH_i"
      },
      "outputs": [],
      "source": [
        "# plot_model(model, to_file='model7.jpg)"
      ]
    },
    {
      "cell_type": "markdown",
      "metadata": {
        "id": "MRQUHfuHmW9a"
      },
      "source": [
        "### 서브클래싱(Subclassing)\n",
        "- 커스터마이징에 최적화된 방법\n",
        "\n",
        "- Model 클래스를 상속받아 Model이 포함하는 기능을 사용할 수 있음  \n",
        "  - `fit()`, `evaluate()`, `predict()`\n",
        "  - `save()`, `load()`\n",
        "\n",
        "- 주로 `call()` 메소드안에서 원하는 계산 가능\n",
        "  - for, if, 저수준 연산 등\n",
        "\n",
        "- 권장되는 방법은 아니지만 어떤 모델의 구현 코드를 참고할 때  \n",
        "  해석할 수 있어야함"
      ]
    },
    {
      "cell_type": "code",
      "execution_count": 1,
      "metadata": {
        "id": "J8edl37Ylv7h"
      },
      "outputs": [],
      "source": [
        "from tensorflow.keras.models import Model\n",
        "from tensorflow.keras.layers import Input, Flatten, Dense\n",
        "from tensorflow.keras.utils import plot_model"
      ]
    },
    {
      "cell_type": "code",
      "execution_count": 3,
      "metadata": {
        "id": "7JKLw7bNsRcr"
      },
      "outputs": [],
      "source": [
        "class MyModel(Model):\n",
        "    def __init__(self, units=30, activation='relu', **kwarg):\n",
        "        super(MyModel, self).__init__(**kwarg)\n",
        "\n",
        "        self.dense_layer1 = Dense(300, activation=activation)\n",
        "        self.dense_layer2 = Dense(100, activation=activation)\n",
        "        self.dense_layer3 = Dense(units, activation=activation)\n",
        "\n",
        "        self.output_layer = Dense(10, activation='softmax')\n",
        "\n",
        "    def call(self, inputs):\n",
        "        x = self.dense_layer1(inputs)\n",
        "        x = self.dense_layer2(x)\n",
        "        x = self.dense_layer3(x)\n",
        "        x = self.output_layer(x)\n",
        "        return x"
      ]
    },
    {
      "cell_type": "markdown",
      "metadata": {
        "id": "a8TkTb9x6_KI"
      },
      "source": [
        "## 모델 가중치 확인"
      ]
    },
    {
      "cell_type": "code",
      "execution_count": 4,
      "metadata": {
        "id": "A12S4z1qpfwh"
      },
      "outputs": [],
      "source": [
        "from tensorflow.keras.models import Model\n",
        "from tensorflow.keras.layers import Input, Flatten, Dense\n",
        "from tensorflow.keras.utils import plot_model"
      ]
    },
    {
      "cell_type": "code",
      "execution_count": 6,
      "metadata": {
        "id": "HLgHWRTv7D2L"
      },
      "outputs": [],
      "source": [
        "inputs = Input(shape=(28, 28, 1))\n",
        "\n",
        "x = Flatten(input_shape=(28, 28, 1))(inputs)\n",
        "x = Dense(300, activation='relu')(x)\n",
        "x = Dense(100, activation='relu')(x)\n",
        "x = Dense(10, activation='softmax')(x)\n",
        "\n",
        "model = Model(inputs=inputs, outputs=x)"
      ]
    },
    {
      "cell_type": "code",
      "execution_count": 7,
      "metadata": {},
      "outputs": [
        {
          "name": "stdout",
          "output_type": "stream",
          "text": [
            "Model: \"model\"\n",
            "_________________________________________________________________\n",
            "Layer (type)                 Output Shape              Param #   \n",
            "=================================================================\n",
            "input_1 (InputLayer)         [(None, 28, 28, 1)]       0         \n",
            "_________________________________________________________________\n",
            "flatten (Flatten)            (None, 784)               0         \n",
            "_________________________________________________________________\n",
            "dense (Dense)                (None, 300)               235500    \n",
            "_________________________________________________________________\n",
            "dense_1 (Dense)              (None, 100)               30100     \n",
            "_________________________________________________________________\n",
            "dense_2 (Dense)              (None, 10)                1010      \n",
            "=================================================================\n",
            "Total params: 266,610\n",
            "Trainable params: 266,610\n",
            "Non-trainable params: 0\n",
            "_________________________________________________________________\n"
          ]
        }
      ],
      "source": [
        "model.summary()"
      ]
    },
    {
      "cell_type": "markdown",
      "metadata": {
        "id": "KK-5msf3qRo0"
      },
      "source": [
        "모델의 레이어들이 리스트로 표현됨\n"
      ]
    },
    {
      "cell_type": "code",
      "execution_count": 8,
      "metadata": {
        "id": "Tf2F-J8vpi49"
      },
      "outputs": [
        {
          "data": {
            "text/plain": [
              "[<keras.engine.input_layer.InputLayer at 0x7ffa1502bfa0>,\n",
              " <keras.layers.core.Flatten at 0x7ffa1502bd00>,\n",
              " <keras.layers.core.Dense at 0x7ffa0d5a8bb0>,\n",
              " <keras.layers.core.Dense at 0x7ffa0d5c54c0>,\n",
              " <keras.layers.core.Dense at 0x7ffa0d6312b0>]"
            ]
          },
          "execution_count": 8,
          "metadata": {},
          "output_type": "execute_result"
        }
      ],
      "source": [
        "model.layers"
      ]
    },
    {
      "cell_type": "code",
      "execution_count": 10,
      "metadata": {
        "id": "-aHbATTApi0h"
      },
      "outputs": [
        {
          "data": {
            "text/plain": [
              "'dense'"
            ]
          },
          "execution_count": 10,
          "metadata": {},
          "output_type": "execute_result"
        }
      ],
      "source": [
        "hidden_2 = model.layers[2]\n",
        "hidden_2.name"
      ]
    },
    {
      "cell_type": "markdown",
      "metadata": {
        "id": "t1DREsBb5iJE"
      },
      "source": [
        "위의 layer name 참고"
      ]
    },
    {
      "cell_type": "code",
      "execution_count": 12,
      "metadata": {
        "id": "nCrffB2wqNW8"
      },
      "outputs": [
        {
          "data": {
            "text/plain": [
              "True"
            ]
          },
          "execution_count": 12,
          "metadata": {},
          "output_type": "execute_result"
        }
      ],
      "source": [
        "model.get_layer('dense') is hidden_2"
      ]
    },
    {
      "cell_type": "code",
      "execution_count": 13,
      "metadata": {
        "id": "OJGopmDxqcO1"
      },
      "outputs": [],
      "source": [
        "weights, bias = hidden_2.get_weights()"
      ]
    },
    {
      "cell_type": "code",
      "execution_count": 14,
      "metadata": {
        "id": "j7zkvduWqhhw"
      },
      "outputs": [
        {
          "data": {
            "text/plain": [
              "array([[-0.04417797,  0.01794915, -0.06571032, ..., -0.00253475,\n",
              "        -0.07124581,  0.07151853],\n",
              "       [-0.04441695, -0.01416636,  0.05315086, ...,  0.01199827,\n",
              "        -0.03198626, -0.06419954],\n",
              "       [-0.00461274,  0.02185454, -0.05284446, ..., -0.02342105,\n",
              "         0.04445601, -0.00512491],\n",
              "       ...,\n",
              "       [-0.02543237, -0.0363336 , -0.02047285, ...,  0.04321747,\n",
              "         0.06864636,  0.07262781],\n",
              "       [ 0.00764433, -0.02716276,  0.0452457 , ..., -0.01027047,\n",
              "         0.04992094, -0.00680706],\n",
              "       [-0.04546686,  0.02993852, -0.07385076, ...,  0.03431576,\n",
              "         0.07229817,  0.06484193]], dtype=float32)"
            ]
          },
          "execution_count": 14,
          "metadata": {},
          "output_type": "execute_result"
        }
      ],
      "source": [
        "weights"
      ]
    },
    {
      "cell_type": "code",
      "execution_count": 15,
      "metadata": {
        "id": "jZsI7ExUqhcH"
      },
      "outputs": [
        {
          "data": {
            "text/plain": [
              "array([0., 0., 0., 0., 0., 0., 0., 0., 0., 0., 0., 0., 0., 0., 0., 0., 0.,\n",
              "       0., 0., 0., 0., 0., 0., 0., 0., 0., 0., 0., 0., 0., 0., 0., 0., 0.,\n",
              "       0., 0., 0., 0., 0., 0., 0., 0., 0., 0., 0., 0., 0., 0., 0., 0., 0.,\n",
              "       0., 0., 0., 0., 0., 0., 0., 0., 0., 0., 0., 0., 0., 0., 0., 0., 0.,\n",
              "       0., 0., 0., 0., 0., 0., 0., 0., 0., 0., 0., 0., 0., 0., 0., 0., 0.,\n",
              "       0., 0., 0., 0., 0., 0., 0., 0., 0., 0., 0., 0., 0., 0., 0., 0., 0.,\n",
              "       0., 0., 0., 0., 0., 0., 0., 0., 0., 0., 0., 0., 0., 0., 0., 0., 0.,\n",
              "       0., 0., 0., 0., 0., 0., 0., 0., 0., 0., 0., 0., 0., 0., 0., 0., 0.,\n",
              "       0., 0., 0., 0., 0., 0., 0., 0., 0., 0., 0., 0., 0., 0., 0., 0., 0.,\n",
              "       0., 0., 0., 0., 0., 0., 0., 0., 0., 0., 0., 0., 0., 0., 0., 0., 0.,\n",
              "       0., 0., 0., 0., 0., 0., 0., 0., 0., 0., 0., 0., 0., 0., 0., 0., 0.,\n",
              "       0., 0., 0., 0., 0., 0., 0., 0., 0., 0., 0., 0., 0., 0., 0., 0., 0.,\n",
              "       0., 0., 0., 0., 0., 0., 0., 0., 0., 0., 0., 0., 0., 0., 0., 0., 0.,\n",
              "       0., 0., 0., 0., 0., 0., 0., 0., 0., 0., 0., 0., 0., 0., 0., 0., 0.,\n",
              "       0., 0., 0., 0., 0., 0., 0., 0., 0., 0., 0., 0., 0., 0., 0., 0., 0.,\n",
              "       0., 0., 0., 0., 0., 0., 0., 0., 0., 0., 0., 0., 0., 0., 0., 0., 0.,\n",
              "       0., 0., 0., 0., 0., 0., 0., 0., 0., 0., 0., 0., 0., 0., 0., 0., 0.,\n",
              "       0., 0., 0., 0., 0., 0., 0., 0., 0., 0., 0.], dtype=float32)"
            ]
          },
          "execution_count": 15,
          "metadata": {},
          "output_type": "execute_result"
        }
      ],
      "source": [
        "bias"
      ]
    },
    {
      "cell_type": "code",
      "execution_count": 16,
      "metadata": {
        "id": "yS8ljwRlqkMc"
      },
      "outputs": [
        {
          "name": "stdout",
          "output_type": "stream",
          "text": [
            "(784, 300)\n",
            "(300,)\n"
          ]
        }
      ],
      "source": [
        "print(weights.shape)\n",
        "print(bias.shape)"
      ]
    },
    {
      "cell_type": "markdown",
      "metadata": {
        "id": "PTFFAcfb2DSF"
      },
      "source": [
        "## 모델 컴파일(compile)\n",
        "\n",
        "- 모델을 구성한 후, 사용할 손실함수(loss), 옵티마이저(optimizer)를 지정\n"
      ]
    },
    {
      "cell_type": "code",
      "execution_count": 17,
      "metadata": {
        "id": "jp4t9-iF2xpN"
      },
      "outputs": [],
      "source": [
        "model.compile(loss='spase_categorical_crossentropy',\n",
        "                optimizer='sgd',\n",
        "                metrics=['accuracy'])"
      ]
    },
    {
      "cell_type": "markdown",
      "metadata": {
        "id": "a8Y5B43W3EmY"
      },
      "source": [
        "### 참고1\n",
        "\n",
        "#### loss\n",
        "- `keras.losses.sparse_categorical_crossentropy` 등과 같이 지정 가능\n",
        "  - `sparse_categorical_crossentropy`  \n",
        "    클래스가 배타적, 즉 MNIST 예제에서 (0, 1, 2, ..., 9)와 같은 방식으로 구분되어 있을 때 사용\n",
        "\n",
        "  - `categorical_cross_entropy`\n",
        "    클래스가 원-핫 인코딩 방식으로 되어 있을 때 사용\n",
        "\n",
        "  - `binary_crossentropy`\n",
        "  이진 분류를 수행할 때 사용\n",
        "\n",
        "\n",
        "#### optimizer\n",
        "- `keras.optimizer.SGD()` 등과 같이 사용 가능\n",
        "  - 보통 옵티마이저의 튜닝을 위해 따로 객체를 생성하여 컴파일    \n",
        "        optimizer = keras.optimizer.SGD(learning_rate=1e-5)  \n",
        "        model.compile(...,\n",
        "                      optimizer=optimzer,\n",
        "                      ...)\n",
        "\n",
        "- `keras.optimizer.Adam()` 도 많이 사용\n",
        "\n",
        "#### metrics\n",
        "- 모니터링할 지표\n",
        "\n",
        "- 주로 'accuracy', 'acc'로도 가능\n"
      ]
    },
    {
      "cell_type": "markdown",
      "metadata": {
        "id": "8k7z79M1Kv-x"
      },
      "source": [
        "### 참고2 - 컴파일 설정 예시\n",
        "- 평균 제곱 오차 회귀 문제  \n",
        "      model.compile(loss = 'mse',  \n",
        "                    optimizer = RMSprop(),  \n",
        "                    metrics=['mae'])\n",
        "\n",
        "- 이진 분류\n",
        "      model.compile(loss = 'binary_crossentropy',  \n",
        "                    optimizer = RMSprop(),  \n",
        "                    metrics=['accuracy])\n",
        "\n",
        "\n",
        "\n",
        "- 다항 분류\n",
        "      model.compile(loss = 'categorical_crossentropy',  \n",
        "                    optimizer = RMSprop(),  \n",
        "                    metrics=['accuracy])\n",
        " \n"
      ]
    },
    {
      "cell_type": "markdown",
      "metadata": {
        "id": "hKAtKRop3AvE"
      },
      "source": [
        "## 모델 훈련, 평가 및 예측\n",
        "- `fit()` 함수\n",
        "\n",
        "  - train_data(학습 데이터), train_label(데이터의 정답)\n",
        "  \n",
        "  - epochs\n",
        "  \n",
        "  - batch_size\n",
        "  \n",
        "  - validation_data\n",
        "\n",
        "- `evaluate()` 함수\n",
        "  - 테스트 데이터\n",
        "\n",
        "\n",
        "- `predict()`\n",
        "  임의의 데이터를 인자로 넣어 예측 가능"
      ]
    },
    {
      "cell_type": "markdown",
      "metadata": {
        "id": "WDPKNEsm2qTQ"
      },
      "source": [
        "## MNIST 예제를 통해 모델 구성하기\n",
        "\n",
        "- keras.datasets 에 포함되어 있는 데이터셋\n",
        "\n",
        "  <img src=\"https://storage.googleapis.com/tfds-data/visualization/fig/mnist-3.0.1.png\" width=\"400\">\n",
        "\n",
        "  <sub>출처: https://www.tensorflow.org/datasets/catalog/mnist</sub>"
      ]
    },
    {
      "cell_type": "markdown",
      "metadata": {
        "id": "Q1CMnkAQGvYE"
      },
      "source": [
        "### modules import"
      ]
    },
    {
      "cell_type": "code",
      "execution_count": 1,
      "metadata": {
        "id": "1AKwa2VeGxqf"
      },
      "outputs": [],
      "source": [
        "import tensorflow as tf\n",
        "from tensorflow.keras.datasets.mnist import load_data\n",
        "from tensorflow.keras.models import Sequential\n",
        "from tensorflow.keras import models\n",
        "from tensorflow.keras.layers import Input, Flatten, Dense\n",
        "from tensorflow.keras.utils import to_categorical\n",
        "from tensorflow.keras.utils import plot_model\n",
        "\n",
        "from sklearn.model_selection import train_test_split\n",
        "import numpy as np\n",
        "import matplotlib.pyplot as plt\n",
        "plt.style.use('seaborn-white')"
      ]
    },
    {
      "cell_type": "markdown",
      "metadata": {
        "id": "vEJBVkwzGpsX"
      },
      "source": [
        "### 데이터셋 로드\n",
        "- MNIST 데이터셋을 로드\n",
        "\n",
        "- Train Data 중, 30%를 검증 데이터(valiation data)로 사용\n"
      ]
    },
    {
      "cell_type": "code",
      "execution_count": 2,
      "metadata": {
        "id": "_OGqRrXg2URI"
      },
      "outputs": [],
      "source": [
        "tf.random.set_seed(111)\n",
        "\n",
        "(x_train_full, y_train_full), (x_test, y_test) = load_data(path='mnist.npz',)\n",
        "x_train, x_val, y_train, y_val = train_test_split(x_train_full, y_train_full,\n",
        "                                                    test_size=0.3,\n",
        "                                                    random_state=111)"
      ]
    },
    {
      "cell_type": "markdown",
      "metadata": {
        "id": "Vyci_3GlH52j"
      },
      "source": [
        "### 데이터 확인"
      ]
    },
    {
      "cell_type": "code",
      "execution_count": 3,
      "metadata": {
        "id": "xYDatr9Q2UsB"
      },
      "outputs": [],
      "source": [
        "num_x_train = x_train.shape[0]\n",
        "num_x_val = x_val.shape[0]\n",
        "num_x_test = x_test.shape[0]"
      ]
    },
    {
      "cell_type": "code",
      "execution_count": 12,
      "metadata": {
        "id": "uqff0qU_2VRV"
      },
      "outputs": [
        {
          "name": "stdout",
          "output_type": "stream",
          "text": [
            "전체 데이터: (60000, 28, 28)\t레이블: (60000,)\n",
            "학습 데이터: (42000, 28, 28)\t레이블: (42000,)\n",
            "검증 데이터: (18000, 28, 28)\t레이블: (18000,)\n",
            "테스트 데이터: (10000, 28, 28)\t레이블: (10000,)\n"
          ]
        }
      ],
      "source": [
        "print(\"전체 데이터: {}\\t레이블: {}\".format(x_train_full.shape, y_train_full.shape))\n",
        "print(\"학습 데이터: {}\\t레이블: {}\".format(x_train.shape, y_train.shape))\n",
        "print(\"검증 데이터: {}\\t레이블: {}\".format(x_val.shape, y_val.shape))\n",
        "print(\"테스트 데이터: {}\\t레이블: {}\".format(x_test.shape, y_test.shape))"
      ]
    },
    {
      "cell_type": "code",
      "execution_count": 14,
      "metadata": {
        "id": "OPlhbVEJ2VNs"
      },
      "outputs": [
        {
          "data": {
            "image/png": "[encoded data removed]",
            "text/plain": [
              "<Figure size 1008x576 with 5 Axes>"
            ]
          },
          "metadata": {},
          "output_type": "display_data"
        }
      ],
      "source": [
        "num_sample = 5\n",
        "\n",
        "random_idxs = np.random.randint(60000, size=num_sample)\n",
        "\n",
        "plt.figure(figsize=(14, 8))\n",
        "for i, idx in enumerate(random_idxs):\n",
        "    img = x_train_full[idx, :]\n",
        "    label = y_train_full[idx]\n",
        "\n",
        "    plt.subplot(1, len(random_idxs), i+1)\n",
        "    plt.imshow(img)\n",
        "    plt.title(\"Index: {}, label: {}\".format(idx, label))"
      ]
    },
    {
      "cell_type": "code",
      "execution_count": 15,
      "metadata": {
        "id": "I0aqzgMM2VKg"
      },
      "outputs": [
        {
          "data": {
            "text/plain": [
              "8"
            ]
          },
          "execution_count": 15,
          "metadata": {},
          "output_type": "execute_result"
        }
      ],
      "source": [
        "y_train[0]"
      ]
    },
    {
      "cell_type": "markdown",
      "metadata": {
        "id": "Du5KAU8COICG"
      },
      "source": [
        "### 데이터 전처리\n",
        "- Normalization"
      ]
    },
    {
      "cell_type": "code",
      "execution_count": 16,
      "metadata": {
        "id": "CMvKiV6POJaR"
      },
      "outputs": [],
      "source": [
        "x_train = x_train / 255.\n",
        "x_val = x_val / 255.\n",
        "x_test = x_test / 255."
      ]
    },
    {
      "cell_type": "code",
      "execution_count": 17,
      "metadata": {
        "id": "bMuBGKWxP7DM"
      },
      "outputs": [],
      "source": [
        "y_train = to_categorical(y_train)\n",
        "y_val = to_categorical(y_val)\n",
        "y_test = to_categorical(y_test)"
      ]
    },
    {
      "cell_type": "markdown",
      "metadata": {
        "id": "S9ke94boKfre"
      },
      "source": [
        "### 모델 구성 (Sequential)"
      ]
    },
    {
      "cell_type": "code",
      "execution_count": 18,
      "metadata": {
        "id": "ZBfX4bt52UoZ"
      },
      "outputs": [],
      "source": [
        "model = Sequential([Input(shape=(28, 28), name='input'),\n",
        "                    Flatten(input_shape=[28, 28], name='flatten'),\n",
        "                    Dense(100, activation='relu', name='dense1'),\n",
        "                    Dense(64, activation='relu', name='dense2'),\n",
        "                    Dense(32, activation='relu', name='dense3'),\n",
        "                    Dense(10, activation='softmax', name='output')])"
      ]
    },
    {
      "cell_type": "code",
      "execution_count": 19,
      "metadata": {
        "id": "QYsY9ghjO0RW"
      },
      "outputs": [
        {
          "name": "stdout",
          "output_type": "stream",
          "text": [
            "Model: \"sequential\"\n",
            "_________________________________________________________________\n",
            "Layer (type)                 Output Shape              Param #   \n",
            "=================================================================\n",
            "flatten (Flatten)            (None, 784)               0         \n",
            "_________________________________________________________________\n",
            "dense1 (Dense)               (None, 100)               78500     \n",
            "_________________________________________________________________\n",
            "dense2 (Dense)               (None, 64)                6464      \n",
            "_________________________________________________________________\n",
            "dense3 (Dense)               (None, 32)                2080      \n",
            "_________________________________________________________________\n",
            "output (Dense)               (None, 10)                330       \n",
            "=================================================================\n",
            "Total params: 87,374\n",
            "Trainable params: 87,374\n",
            "Non-trainable params: 0\n",
            "_________________________________________________________________\n"
          ]
        }
      ],
      "source": [
        "model.summary()"
      ]
    },
    {
      "cell_type": "code",
      "execution_count": 24,
      "metadata": {
        "id": "zE-EHHkK2UMG"
      },
      "outputs": [
        {
          "name": "stdout",
          "output_type": "stream",
          "text": [
            "('You must install pydot (`pip install pydot`) and install graphviz (see instructions at https://graphviz.gitlab.io/download/) ', 'for plot_model/model_to_dot to work.')\n"
          ]
        }
      ],
      "source": [
        "# plot_model(model)"
      ]
    },
    {
      "cell_type": "code",
      "execution_count": 21,
      "metadata": {
        "id": "KW7h-7mR26Xf"
      },
      "outputs": [],
      "source": [
        "# plot_model(model, show_shapes=True)"
      ]
    },
    {
      "cell_type": "markdown",
      "metadata": {
        "id": "ttXdLuQsQE_k"
      },
      "source": [
        "### 모델 컴파일"
      ]
    },
    {
      "cell_type": "code",
      "execution_count": 25,
      "metadata": {
        "id": "EXld9Ehd2UJW"
      },
      "outputs": [],
      "source": [
        "model.compile(loss='categorical_crossentropy',\n",
        "                optimizer='sgd',\n",
        "                metrics=['accuracy'])"
      ]
    },
    {
      "cell_type": "markdown",
      "metadata": {
        "id": "TeRlwrsNQUP_"
      },
      "source": [
        "### 모델 학습\n",
        "- 모델 시각화를 위해 history라는 변수에 학습 과정을 담음"
      ]
    },
    {
      "cell_type": "code",
      "execution_count": 26,
      "metadata": {
        "id": "5TaYebESQT0X"
      },
      "outputs": [
        {
          "name": "stdout",
          "output_type": "stream",
          "text": [
            "Epoch 1/50\n",
            "329/329 [==============================] - 4s 10ms/step - loss: 1.6822 - accuracy: 0.5096 - val_loss: 0.9621 - val_accuracy: 0.7749\n",
            "Epoch 2/50\n",
            "329/329 [==============================] - 3s 8ms/step - loss: 0.6800 - accuracy: 0.8292 - val_loss: 0.5311 - val_accuracy: 0.8517\n",
            "Epoch 3/50\n",
            "329/329 [==============================] - 3s 8ms/step - loss: 0.4660 - accuracy: 0.8714 - val_loss: 0.4191 - val_accuracy: 0.8792\n",
            "Epoch 4/50\n",
            "329/329 [==============================] - 2s 5ms/step - loss: 0.3920 - accuracy: 0.8898 - val_loss: 0.3733 - val_accuracy: 0.8909\n",
            "Epoch 5/50\n",
            "329/329 [==============================] - 2s 6ms/step - loss: 0.3500 - accuracy: 0.9004 - val_loss: 0.3320 - val_accuracy: 0.9044\n",
            "Epoch 6/50\n",
            "329/329 [==============================] - 2s 6ms/step - loss: 0.3205 - accuracy: 0.9089 - val_loss: 0.3189 - val_accuracy: 0.9062\n",
            "Epoch 7/50\n",
            "329/329 [==============================] - 5s 14ms/step - loss: 0.2977 - accuracy: 0.9149 - val_loss: 0.3170 - val_accuracy: 0.9062\n",
            "Epoch 8/50\n",
            "329/329 [==============================] - 3s 10ms/step - loss: 0.2790 - accuracy: 0.9194 - val_loss: 0.2721 - val_accuracy: 0.9226\n",
            "Epoch 9/50\n",
            "329/329 [==============================] - 2s 7ms/step - loss: 0.2631 - accuracy: 0.9248 - val_loss: 0.2679 - val_accuracy: 0.9224\n",
            "Epoch 10/50\n",
            "329/329 [==============================] - 2s 6ms/step - loss: 0.2495 - accuracy: 0.9289 - val_loss: 0.2511 - val_accuracy: 0.9281\n",
            "Epoch 11/50\n",
            "329/329 [==============================] - 2s 6ms/step - loss: 0.2374 - accuracy: 0.9321 - val_loss: 0.2383 - val_accuracy: 0.9322\n",
            "Epoch 12/50\n",
            "329/329 [==============================] - 2s 7ms/step - loss: 0.2269 - accuracy: 0.9354 - val_loss: 0.2499 - val_accuracy: 0.9257\n",
            "Epoch 13/50\n",
            "329/329 [==============================] - 2s 6ms/step - loss: 0.2171 - accuracy: 0.9377 - val_loss: 0.2210 - val_accuracy: 0.9368\n",
            "Epoch 14/50\n",
            "329/329 [==============================] - 2s 7ms/step - loss: 0.2082 - accuracy: 0.9418 - val_loss: 0.2157 - val_accuracy: 0.9377\n",
            "Epoch 15/50\n",
            "329/329 [==============================] - 2s 7ms/step - loss: 0.1996 - accuracy: 0.9430 - val_loss: 0.2147 - val_accuracy: 0.9371\n",
            "Epoch 16/50\n",
            "329/329 [==============================] - 1s 4ms/step - loss: 0.1921 - accuracy: 0.9457 - val_loss: 0.2097 - val_accuracy: 0.9396\n",
            "Epoch 17/50\n",
            "329/329 [==============================] - 1s 4ms/step - loss: 0.1848 - accuracy: 0.9470 - val_loss: 0.1978 - val_accuracy: 0.9426\n",
            "Epoch 18/50\n",
            "329/329 [==============================] - 1s 4ms/step - loss: 0.1778 - accuracy: 0.9495 - val_loss: 0.2051 - val_accuracy: 0.9401\n",
            "Epoch 19/50\n",
            "329/329 [==============================] - 1s 4ms/step - loss: 0.1721 - accuracy: 0.9515 - val_loss: 0.1869 - val_accuracy: 0.9451\n",
            "Epoch 20/50\n",
            "329/329 [==============================] - 1s 3ms/step - loss: 0.1660 - accuracy: 0.9528 - val_loss: 0.2273 - val_accuracy: 0.9320\n",
            "Epoch 21/50\n",
            "329/329 [==============================] - 1s 4ms/step - loss: 0.1609 - accuracy: 0.9550 - val_loss: 0.1757 - val_accuracy: 0.9477\n",
            "Epoch 22/50\n",
            "329/329 [==============================] - 1s 3ms/step - loss: 0.1553 - accuracy: 0.9561 - val_loss: 0.1822 - val_accuracy: 0.9459\n",
            "Epoch 23/50\n",
            "329/329 [==============================] - 1s 4ms/step - loss: 0.1506 - accuracy: 0.9570 - val_loss: 0.1662 - val_accuracy: 0.9517\n",
            "Epoch 24/50\n",
            "329/329 [==============================] - 1s 4ms/step - loss: 0.1456 - accuracy: 0.9586 - val_loss: 0.1682 - val_accuracy: 0.9494\n",
            "Epoch 25/50\n",
            "329/329 [==============================] - 1s 3ms/step - loss: 0.1414 - accuracy: 0.9602 - val_loss: 0.1680 - val_accuracy: 0.9504\n",
            "Epoch 26/50\n",
            "329/329 [==============================] - 1s 4ms/step - loss: 0.1369 - accuracy: 0.9612 - val_loss: 0.1572 - val_accuracy: 0.9534\n",
            "Epoch 27/50\n",
            "329/329 [==============================] - 1s 3ms/step - loss: 0.1328 - accuracy: 0.9626 - val_loss: 0.1525 - val_accuracy: 0.9555\n",
            "Epoch 28/50\n",
            "329/329 [==============================] - 1s 4ms/step - loss: 0.1292 - accuracy: 0.9635 - val_loss: 0.1533 - val_accuracy: 0.9548\n",
            "Epoch 29/50\n",
            "329/329 [==============================] - 1s 4ms/step - loss: 0.1255 - accuracy: 0.9643 - val_loss: 0.1474 - val_accuracy: 0.9566\n",
            "Epoch 30/50\n",
            "329/329 [==============================] - 1s 4ms/step - loss: 0.1222 - accuracy: 0.9655 - val_loss: 0.1455 - val_accuracy: 0.9563\n",
            "Epoch 31/50\n",
            "329/329 [==============================] - 1s 4ms/step - loss: 0.1188 - accuracy: 0.9664 - val_loss: 0.1430 - val_accuracy: 0.9575\n",
            "Epoch 32/50\n",
            "329/329 [==============================] - 1s 3ms/step - loss: 0.1159 - accuracy: 0.9676 - val_loss: 0.1436 - val_accuracy: 0.9566\n",
            "Epoch 33/50\n",
            "329/329 [==============================] - 1s 4ms/step - loss: 0.1127 - accuracy: 0.9683 - val_loss: 0.1404 - val_accuracy: 0.9579\n",
            "Epoch 34/50\n",
            "329/329 [==============================] - 1s 3ms/step - loss: 0.1096 - accuracy: 0.9688 - val_loss: 0.1414 - val_accuracy: 0.9569\n",
            "Epoch 35/50\n",
            "329/329 [==============================] - 1s 3ms/step - loss: 0.1068 - accuracy: 0.9699 - val_loss: 0.1377 - val_accuracy: 0.9581\n",
            "Epoch 36/50\n",
            "329/329 [==============================] - 1s 4ms/step - loss: 0.1042 - accuracy: 0.9703 - val_loss: 0.1363 - val_accuracy: 0.9579\n",
            "Epoch 37/50\n",
            "329/329 [==============================] - 1s 3ms/step - loss: 0.1015 - accuracy: 0.9712 - val_loss: 0.1309 - val_accuracy: 0.9597\n",
            "Epoch 38/50\n",
            "329/329 [==============================] - 1s 4ms/step - loss: 0.0993 - accuracy: 0.9718 - val_loss: 0.1278 - val_accuracy: 0.9617\n",
            "Epoch 39/50\n",
            "329/329 [==============================] - 1s 3ms/step - loss: 0.0967 - accuracy: 0.9724 - val_loss: 0.1315 - val_accuracy: 0.9597\n",
            "Epoch 40/50\n",
            "329/329 [==============================] - 1s 3ms/step - loss: 0.0947 - accuracy: 0.9726 - val_loss: 0.1292 - val_accuracy: 0.9614\n",
            "Epoch 41/50\n",
            "329/329 [==============================] - 1s 4ms/step - loss: 0.0925 - accuracy: 0.9735 - val_loss: 0.1247 - val_accuracy: 0.9627\n",
            "Epoch 42/50\n",
            "329/329 [==============================] - 1s 3ms/step - loss: 0.0902 - accuracy: 0.9743 - val_loss: 0.1431 - val_accuracy: 0.9560\n",
            "Epoch 43/50\n",
            "329/329 [==============================] - 1s 4ms/step - loss: 0.0879 - accuracy: 0.9747 - val_loss: 0.1219 - val_accuracy: 0.9628\n",
            "Epoch 44/50\n",
            "329/329 [==============================] - 1s 3ms/step - loss: 0.0859 - accuracy: 0.9755 - val_loss: 0.1199 - val_accuracy: 0.9636\n",
            "Epoch 45/50\n",
            "329/329 [==============================] - 1s 3ms/step - loss: 0.0841 - accuracy: 0.9759 - val_loss: 0.1179 - val_accuracy: 0.9641\n",
            "Epoch 46/50\n",
            "329/329 [==============================] - 1s 4ms/step - loss: 0.0818 - accuracy: 0.9769 - val_loss: 0.1187 - val_accuracy: 0.9641\n",
            "Epoch 47/50\n",
            "329/329 [==============================] - 1s 4ms/step - loss: 0.0803 - accuracy: 0.9770 - val_loss: 0.1198 - val_accuracy: 0.9632\n",
            "Epoch 48/50\n",
            "329/329 [==============================] - 1s 4ms/step - loss: 0.0784 - accuracy: 0.9770 - val_loss: 0.1167 - val_accuracy: 0.9643\n",
            "Epoch 49/50\n",
            "329/329 [==============================] - 1s 4ms/step - loss: 0.0767 - accuracy: 0.9782 - val_loss: 0.1161 - val_accuracy: 0.9646\n",
            "Epoch 50/50\n",
            "329/329 [==============================] - 1s 4ms/step - loss: 0.0749 - accuracy: 0.9786 - val_loss: 0.1203 - val_accuracy: 0.9635\n"
          ]
        }
      ],
      "source": [
        "history = model.fit(x_train, y_train,\n",
        "                    epochs=50,\n",
        "                    batch_size=128,\n",
        "                    validation_data=(x_val, y_val))"
      ]
    },
    {
      "cell_type": "markdown",
      "metadata": {
        "id": "0XaPJX7sRVzi"
      },
      "source": [
        "### 학습 결과 시각화"
      ]
    },
    {
      "cell_type": "code",
      "execution_count": 27,
      "metadata": {
        "id": "vAnCqu9ARVTw"
      },
      "outputs": [
        {
          "data": {
            "text/plain": [
              "dict_keys(['loss', 'accuracy', 'val_loss', 'val_accuracy'])"
            ]
          },
          "execution_count": 27,
          "metadata": {},
          "output_type": "execute_result"
        }
      ],
      "source": [
        "history.history.keys()"
      ]
    },
    {
      "cell_type": "code",
      "execution_count": 29,
      "metadata": {
        "id": "MHfJkN2lRVOc"
      },
      "outputs": [
        {
          "data": {
            "image/png": "[encoded data removed]",
            "text/plain": [
              "<Figure size 864x432 with 2 Axes>"
            ]
          },
          "metadata": {},
          "output_type": "display_data"
        }
      ],
      "source": [
        "history_dict = history.history\n",
        "\n",
        "loss = history_dict['loss']\n",
        "val_loss = history_dict['val_loss']\n",
        "\n",
        "epochs = range(1, len(loss)+1)\n",
        "fig = plt.figure(figsize=(12, 6))\n",
        "\n",
        "ax1 = fig.add_subplot(1, 2, 1)\n",
        "ax1.plot(epochs, loss, color='blue', label='train loss')\n",
        "ax1.plot(epochs, val_loss, color='red', label='validation loss')\n",
        "ax1.set_title(\"Train and Validation Loss\")\n",
        "ax1.set_xlabel(\"Epochs\")\n",
        "ax1.set_ylabel(\"Loss\")\n",
        "ax1.grid()\n",
        "ax1.legend()\n",
        "\n",
        "accuracy = history_dict['accuracy']\n",
        "val_accuracy = history_dict['val_accuracy']\n",
        "\n",
        "ax2 = fig.add_subplot(1, 2, 2)\n",
        "ax2.plot(epochs, accuracy, color='blue', label='train accuracy')\n",
        "ax2.plot(epochs, val_accuracy, color='red', label='validation accuracy')\n",
        "ax2.set_title(\"Train and Validation Accuracy\")\n",
        "ax2.set_xlabel(\"Epochs\")\n",
        "ax2.set_ylabel(\"Accuracy\")\n",
        "ax2.grid()\n",
        "ax2.legend()\n",
        "\n",
        "plt.show()"
      ]
    },
    {
      "cell_type": "markdown",
      "metadata": {
        "id": "Gwl7tQLcTZnW"
      },
      "source": [
        "### 모델 평가 (1)\n",
        "- evaluate"
      ]
    },
    {
      "cell_type": "code",
      "execution_count": 30,
      "metadata": {
        "id": "gX7HcpeoTZGU"
      },
      "outputs": [
        {
          "name": "stdout",
          "output_type": "stream",
          "text": [
            "313/313 [==============================] - 1s 3ms/step - loss: 0.1222 - accuracy: 0.9641\n"
          ]
        },
        {
          "data": {
            "text/plain": [
              "[0.12215697020292282, 0.9641000032424927]"
            ]
          },
          "execution_count": 30,
          "metadata": {},
          "output_type": "execute_result"
        }
      ],
      "source": [
        "model.evaluate(x_test, y_test)"
      ]
    },
    {
      "cell_type": "markdown",
      "metadata": {
        "id": "ZIV4MhWSTtqH"
      },
      "source": [
        "### 학습된 모델을 통해 값 예측"
      ]
    },
    {
      "cell_type": "code",
      "execution_count": 31,
      "metadata": {
        "id": "te5Wt3jFTY8g"
      },
      "outputs": [
        {
          "name": "stdout",
          "output_type": "stream",
          "text": [
            "(10000, 10)\n",
            "[7.0251879e-08 5.7895075e-08 1.2957017e-06 3.9945167e-05 2.2854554e-09\n",
            " 3.3112454e-07 2.4418521e-11 9.9995732e-01 9.7239543e-08 9.4740153e-07]\n"
          ]
        }
      ],
      "source": [
        "pred_ys = model.predict(x_test)\n",
        "print(pred_ys.shape)\n",
        "\n",
        "np.set_printoptions(precision=7)\n",
        "print(pred_ys[0])"
      ]
    },
    {
      "cell_type": "code",
      "execution_count": 33,
      "metadata": {
        "id": "uJHPRGpMTnnM"
      },
      "outputs": [
        {
          "data": {
            "image/png": "[encoded data removed]",
            "text/plain": [
              "<Figure size 432x288 with 1 Axes>"
            ]
          },
          "metadata": {},
          "output_type": "display_data"
        }
      ],
      "source": [
        "arg_pred_y = np.argmax(pred_ys, axis=1)\n",
        "\n",
        "plt.imshow(x_test[0])\n",
        "plt.title(\"label: {}\".format(arg_pred_y[0]))\n",
        "plt.show()"
      ]
    },
    {
      "cell_type": "markdown",
      "metadata": {
        "id": "G6ypcp0iVyjj"
      },
      "source": [
        "### 모델 평가 (2)\n",
        "- 혼동행렬 (Confusion Maxtrix)"
      ]
    },
    {
      "cell_type": "code",
      "execution_count": 35,
      "metadata": {
        "id": "8fN2G31JTnrY"
      },
      "outputs": [],
      "source": [
        "from sklearn.metrics import classification_report, confusion_matrix\n",
        "import seaborn as sns\n",
        "sns.set(style='white')"
      ]
    },
    {
      "cell_type": "code",
      "execution_count": 41,
      "metadata": {
        "id": "IPX11GMeTnt-"
      },
      "outputs": [
        {
          "data": {
            "image/png": "[encoded data removed]",
            "text/plain": [
              "<Figure size 504x504 with 2 Axes>"
            ]
          },
          "metadata": {},
          "output_type": "display_data"
        }
      ],
      "source": [
        "plt.figure(figsize=(7, 7))\n",
        "cm = confusion_matrix(np.argmax(y_test, axis=-1), np.argmax(pred_ys, axis=-1))\n",
        "sns.heatmap(cm, annot=True, fmt='d', cmap='Blues')\n",
        "plt.xlabel('Predicted Label')\n",
        "plt.ylabel('True Label')\n",
        "plt.show()"
      ]
    },
    {
      "cell_type": "markdown",
      "metadata": {
        "id": "BMo2g1TZWctY"
      },
      "source": [
        "### 모델 평가 (3)\n",
        "- 분류 보고서"
      ]
    },
    {
      "cell_type": "code",
      "execution_count": 42,
      "metadata": {
        "id": "J1n_j_h4TnjP"
      },
      "outputs": [
        {
          "name": "stdout",
          "output_type": "stream",
          "text": [
            "              precision    recall  f1-score   support\n",
            "\n",
            "           0       0.97      0.99      0.98       980\n",
            "           1       0.99      0.99      0.99      1135\n",
            "           2       0.98      0.95      0.96      1032\n",
            "           3       0.93      0.98      0.95      1010\n",
            "           4       0.96      0.98      0.97       982\n",
            "           5       0.99      0.92      0.95       892\n",
            "           6       0.96      0.97      0.97       958\n",
            "           7       0.95      0.98      0.96      1028\n",
            "           8       0.96      0.94      0.95       974\n",
            "           9       0.98      0.93      0.96      1009\n",
            "\n",
            "    accuracy                           0.96     10000\n",
            "   macro avg       0.96      0.96      0.96     10000\n",
            "weighted avg       0.96      0.96      0.96     10000\n",
            "\n"
          ]
        }
      ],
      "source": [
        "print(classification_report(np.argmax(y_test, axis=-1), np.argmax(pred_ys, axis=-1)))"
      ]
    },
    {
      "cell_type": "markdown",
      "metadata": {
        "id": "6VWo95AB0W2v"
      },
      "source": [
        "## 모델 저장과 복원\n",
        "- `save()`\n",
        "\n",
        "- `load_model()`\n",
        "\n",
        "- (주의)  \n",
        "  시퀀셜 API, 함수형 API에서는 **모델**의 저장 및 로드기 가능하지만 서브클래싱 방식으로는 할 수 없음  \n",
        "  \n",
        "  서브클래싱 방식\n",
        "      save_weights()\n",
        "      load_weights()  \n",
        "  위 두가지를 통해 **모델의 파라미터**만 저장 및 로드\n",
        "\n",
        "\n",
        "- JSON 형식\n",
        "  - `model.to_json()` (저장)\n",
        "\n",
        "  - `tf.keras.models.model_from_json(file_path)` (복원)\n",
        "\n",
        "- YAML로 직렬화\n",
        "  - `model.to_yaml()` (저장)\n",
        "\n",
        "  - `tf.keras.models.model_from_yaml(file_path)` (복원)\n"
      ]
    },
    {
      "cell_type": "code",
      "execution_count": 43,
      "metadata": {
        "id": "qI-OJUAvtkZs"
      },
      "outputs": [],
      "source": [
        "model.save('mnist_model.h5')"
      ]
    },
    {
      "cell_type": "code",
      "execution_count": 44,
      "metadata": {
        "id": "CKkUgRlEX9yN"
      },
      "outputs": [],
      "source": [
        "loaded_model = models.load_model('mnist_model.h5')"
      ]
    },
    {
      "cell_type": "code",
      "execution_count": 45,
      "metadata": {
        "id": "xcSNxvvLYMJO"
      },
      "outputs": [
        {
          "name": "stdout",
          "output_type": "stream",
          "text": [
            "Model: \"sequential\"\n",
            "_________________________________________________________________\n",
            "Layer (type)                 Output Shape              Param #   \n",
            "=================================================================\n",
            "flatten (Flatten)            (None, 784)               0         \n",
            "_________________________________________________________________\n",
            "dense1 (Dense)               (None, 100)               78500     \n",
            "_________________________________________________________________\n",
            "dense2 (Dense)               (None, 64)                6464      \n",
            "_________________________________________________________________\n",
            "dense3 (Dense)               (None, 32)                2080      \n",
            "_________________________________________________________________\n",
            "output (Dense)               (None, 10)                330       \n",
            "=================================================================\n",
            "Total params: 87,374\n",
            "Trainable params: 87,374\n",
            "Non-trainable params: 0\n",
            "_________________________________________________________________\n"
          ]
        }
      ],
      "source": [
        "loaded_model.summary()"
      ]
    },
    {
      "cell_type": "code",
      "execution_count": 48,
      "metadata": {
        "id": "qUAZUdOpZOqp"
      },
      "outputs": [
        {
          "name": "stdout",
          "output_type": "stream",
          "text": [
            "(10000, 10)\n",
            "[7.0251879e-08 5.7895075e-08 1.2957017e-06 3.9945167e-05 2.2854554e-09\n",
            " 3.3112454e-07 2.4418521e-11 9.9995732e-01 9.7239543e-08 9.4740153e-07]\n"
          ]
        }
      ],
      "source": [
        "pred_ys2 = loaded_model.predict(x_test)\n",
        "print(pred_ys2.shape)\n",
        "\n",
        "np.set_printoptions(precision=7)\n",
        "print(pred_ys2[0])"
      ]
    },
    {
      "cell_type": "code",
      "execution_count": 51,
      "metadata": {
        "id": "lGcJHpbJaRiN"
      },
      "outputs": [
        {
          "data": {
            "image/png": "[encoded data removed]",
            "text/plain": [
              "<Figure size 432x288 with 1 Axes>"
            ]
          },
          "metadata": {},
          "output_type": "display_data"
        }
      ],
      "source": [
        "arg_pred_y2 = np.argmax(pred_ys2, axis=1)\n",
        "\n",
        "plt.imshow(x_test[0])\n",
        "plt.title(\"label: {}\".format(arg_pred_y2[0]))\n",
        "plt.show()"
      ]
    },
    {
      "cell_type": "markdown",
      "metadata": {
        "id": "vwprko04qWeg"
      },
      "source": [
        "## 콜백 (Callbacks)\n",
        "\n",
        "- `fit()` 함수의 callbacks 매개변수를 사용하여 케라스가 훈련의 시작이나 끝에 호출할 객체 리스트를 지정할 수 있음\n",
        "\n",
        "- 여러 개 사용 가능\n",
        "\n",
        "- ModelCheckpoint\n",
        "  - `tf.keras.callbacks.ModelCheckpoint`\n",
        "  - 정기적으로 모델의 체크포인트를 저장하고, 문제가 발생할 때 복구하는데 사용\n",
        "\n",
        "- EarlyStopping\n",
        "  - `tf.keras.callbacks.EarlyStopping`\n",
        "  - 검증 성능이 한동안 개선되지 않을 경우 학습을 중단할 때 사용\n",
        "\n",
        "- LearningRateSchduler\n",
        "  - `tf.keras.callbacks.LearningRateSchduler`\n",
        "  - 최적화를 하는 동안 학습률(learning_rate)를 동적으로 변경할 때 사용\n",
        "\n",
        "- TensorBoard\n",
        "  - `tf.keras.callbacks.TensorBoard`\n",
        "  - 모델의 경과를 모니터링할 때 사용\n"
      ]
    },
    {
      "cell_type": "code",
      "execution_count": 54,
      "metadata": {
        "id": "0_oKQ3gw4Gtp"
      },
      "outputs": [
        {
          "name": "stdout",
          "output_type": "stream",
          "text": [
            "전체 데이터: (60000, 28, 28)\t레이블: (60000,)\n",
            "학습 데이터: (42000, 28, 28)\t레이블: (42000,)\n",
            "검증 데이터: (18000, 28, 28)\t레이블: (18000,)\n",
            "테스트 데이터: (10000, 28, 28)\t레이블: (10000,)\n",
            "Model: \"sequential_2\"\n",
            "_________________________________________________________________\n",
            "Layer (type)                 Output Shape              Param #   \n",
            "=================================================================\n",
            "flatten (Flatten)            (None, 784)               0         \n",
            "_________________________________________________________________\n",
            "dense1 (Dense)               (None, 100)               78500     \n",
            "_________________________________________________________________\n",
            "dense2 (Dense)               (None, 64)                6464      \n",
            "_________________________________________________________________\n",
            "dense3 (Dense)               (None, 32)                2080      \n",
            "_________________________________________________________________\n",
            "output (Dense)               (None, 10)                330       \n",
            "=================================================================\n",
            "Total params: 87,374\n",
            "Trainable params: 87,374\n",
            "Non-trainable params: 0\n",
            "_________________________________________________________________\n"
          ]
        }
      ],
      "source": [
        "(x_train_full, y_train_full), (x_test, y_test) = load_data(path='mnist.npz',)\n",
        "x_train, x_val, y_train, y_val = train_test_split(x_train_full, y_train_full,\n",
        "                                                    test_size=0.3,\n",
        "                                                    random_state=111)\n",
        "\n",
        "print(\"전체 데이터: {}\\t레이블: {}\".format(x_train_full.shape, y_train_full.shape))\n",
        "print(\"학습 데이터: {}\\t레이블: {}\".format(x_train.shape, y_train.shape))\n",
        "print(\"검증 데이터: {}\\t레이블: {}\".format(x_val.shape, y_val.shape))\n",
        "print(\"테스트 데이터: {}\\t레이블: {}\".format(x_test.shape, y_test.shape))\n",
        "\n",
        "x_train = x_train / 255.\n",
        "x_val = x_val / 255.\n",
        "x_test = x_test / 255.\n",
        "\n",
        "y_train = to_categorical(y_train)\n",
        "y_val = to_categorical(y_val)\n",
        "y_test = to_categorical(y_test)\n",
        "\n",
        "def build_model():\n",
        "    model = Sequential([Input(shape=(28, 28), name='input'),\n",
        "                    Flatten(input_shape=[28, 28], name='flatten'),\n",
        "                    Dense(100, activation='relu', name='dense1'),\n",
        "                    Dense(64, activation='relu', name='dense2'),\n",
        "                    Dense(32, activation='relu', name='dense3'),\n",
        "                    Dense(10, activation='softmax', name='output')])\n",
        "    \n",
        "    model.compile(loss='categorical_crossentropy',\n",
        "                    optimizer='sgd',\n",
        "                    metrics=['accuracy'])\n",
        "\n",
        "    return model\n",
        "\n",
        "model = build_model()\n",
        "model.summary()"
      ]
    },
    {
      "cell_type": "code",
      "execution_count": 60,
      "metadata": {
        "id": "ENnkJ6Qq2JQm"
      },
      "outputs": [],
      "source": [
        "from tensorflow.keras.models import load_model\n",
        "from tensorflow.keras.callbacks import ModelCheckpoint, EarlyStopping, LearningRateScheduler, TensorBoard"
      ]
    },
    {
      "cell_type": "markdown",
      "metadata": {
        "id": "xNBMnd5IgE8H"
      },
      "source": [
        "### ModelCheckpoint"
      ]
    },
    {
      "cell_type": "code",
      "execution_count": 57,
      "metadata": {
        "id": "tVOIVgBnqdIg"
      },
      "outputs": [
        {
          "name": "stdout",
          "output_type": "stream",
          "text": [
            "Epoch 1/10\n",
            "1313/1313 [==============================] - 7s 5ms/step - loss: 0.7993 - accuracy: 0.7742\n",
            "Epoch 2/10\n",
            "1313/1313 [==============================] - 6s 5ms/step - loss: 0.3224 - accuracy: 0.9068\n",
            "Epoch 3/10\n",
            "1313/1313 [==============================] - 5s 4ms/step - loss: 0.2615 - accuracy: 0.9246\n",
            "Epoch 4/10\n",
            "1313/1313 [==============================] - 6s 5ms/step - loss: 0.2238 - accuracy: 0.9355\n",
            "Epoch 5/10\n",
            "1313/1313 [==============================] - 7s 6ms/step - loss: 0.1964 - accuracy: 0.9430\n",
            "Epoch 6/10\n",
            "1313/1313 [==============================] - 9s 7ms/step - loss: 0.1756 - accuracy: 0.9485\n",
            "Epoch 7/10\n",
            "1313/1313 [==============================] - 6s 5ms/step - loss: 0.1578 - accuracy: 0.9545\n",
            "Epoch 8/10\n",
            "1313/1313 [==============================] - 5s 4ms/step - loss: 0.1426 - accuracy: 0.9586\n",
            "Epoch 9/10\n",
            "1313/1313 [==============================] - 5s 4ms/step - loss: 0.1300 - accuracy: 0.9623\n",
            "Epoch 10/10\n",
            "1313/1313 [==============================] - 6s 4ms/step - loss: 0.1191 - accuracy: 0.9655: 0s - loss: 0.1206 - \n"
          ]
        }
      ],
      "source": [
        "check_point_cb = ModelCheckpoint('keras_mnist_model.h5')\n",
        "history = model.fit(x_train, y_train, epochs=10, callbacks=[check_point_cb])"
      ]
    },
    {
      "cell_type": "code",
      "execution_count": 58,
      "metadata": {
        "id": "HAHm-GqSqdE7"
      },
      "outputs": [
        {
          "data": {
            "text/plain": [
              "dict_keys(['loss', 'accuracy'])"
            ]
          },
          "execution_count": 58,
          "metadata": {},
          "output_type": "execute_result"
        }
      ],
      "source": [
        "history.history.keys()"
      ]
    },
    {
      "cell_type": "code",
      "execution_count": 61,
      "metadata": {
        "id": "h4Z8KGWSqdBb"
      },
      "outputs": [
        {
          "name": "stdout",
          "output_type": "stream",
          "text": [
            "Model: \"sequential_2\"\n",
            "_________________________________________________________________\n",
            "Layer (type)                 Output Shape              Param #   \n",
            "=================================================================\n",
            "flatten (Flatten)            (None, 784)               0         \n",
            "_________________________________________________________________\n",
            "dense1 (Dense)               (None, 100)               78500     \n",
            "_________________________________________________________________\n",
            "dense2 (Dense)               (None, 64)                6464      \n",
            "_________________________________________________________________\n",
            "dense3 (Dense)               (None, 32)                2080      \n",
            "_________________________________________________________________\n",
            "output (Dense)               (None, 10)                330       \n",
            "=================================================================\n",
            "Total params: 87,374\n",
            "Trainable params: 87,374\n",
            "Non-trainable params: 0\n",
            "_________________________________________________________________\n"
          ]
        }
      ],
      "source": [
        "loaded_model = load_model(\"keras_mnist_model.h5\")\n",
        "loaded_model.summary()"
      ]
    },
    {
      "cell_type": "markdown",
      "metadata": {
        "id": "dGv8fIyo4_Th"
      },
      "source": [
        "최상의 모델만을 저장\n",
        "- save_best_only=True"
      ]
    },
    {
      "cell_type": "code",
      "execution_count": 63,
      "metadata": {
        "id": "4W4rJEOsqc98"
      },
      "outputs": [
        {
          "name": "stdout",
          "output_type": "stream",
          "text": [
            "Epoch 1/10\n",
            "1313/1313 [==============================] - 8s 5ms/step - loss: 0.8313 - accuracy: 0.7689 - val_loss: 0.3828 - val_accuracy: 0.8844\n",
            "Epoch 2/10\n",
            "1313/1313 [==============================] - 5s 4ms/step - loss: 0.3293 - accuracy: 0.9048 - val_loss: 0.3154 - val_accuracy: 0.9045\n",
            "Epoch 3/10\n",
            "1313/1313 [==============================] - 5s 4ms/step - loss: 0.2647 - accuracy: 0.9234 - val_loss: 0.2475 - val_accuracy: 0.9251\n",
            "Epoch 4/10\n",
            "1313/1313 [==============================] - 5s 4ms/step - loss: 0.2212 - accuracy: 0.9361 - val_loss: 0.2201 - val_accuracy: 0.9335\n",
            "Epoch 5/10\n",
            "1313/1313 [==============================] - 9s 7ms/step - loss: 0.1909 - accuracy: 0.9446 - val_loss: 0.1957 - val_accuracy: 0.9417916 - accu\n",
            "Epoch 6/10\n",
            "1313/1313 [==============================] - 9s 7ms/step - loss: 0.1678 - accuracy: 0.9515 - val_loss: 0.1833 - val_accuracy: 0.9446\n",
            "Epoch 7/10\n",
            "1313/1313 [==============================] - 9s 7ms/step - loss: 0.1491 - accuracy: 0.9570 - val_loss: 0.1832 - val_accuracy: 0.9447\n",
            "Epoch 8/10\n",
            "1313/1313 [==============================] - 7s 6ms/step - loss: 0.1343 - accuracy: 0.9609 - val_loss: 0.1461 - val_accuracy: 0.9559\n",
            "Epoch 9/10\n",
            "1313/1313 [==============================] - 10s 7ms/step - loss: 0.1217 - accuracy: 0.9644 - val_loss: 0.1387 - val_accuracy: 0.9578\n",
            "Epoch 10/10\n",
            "1313/1313 [==============================] - 7s 6ms/step - loss: 0.1108 - accuracy: 0.9673 - val_loss: 0.1347 - val_accuracy: 0.9583\n"
          ]
        }
      ],
      "source": [
        "model = build_model()\n",
        "\n",
        "cp = ModelCheckpoint('keras_best_model.h5', save_best_only=True)\n",
        "\n",
        "history = model.fit(x_train, y_train, epochs=10,\n",
        "                    validation_data=(x_val, y_val), callbacks=[cp])"
      ]
    },
    {
      "cell_type": "code",
      "execution_count": 67,
      "metadata": {
        "id": "r2QNCtmjqc6f"
      },
      "outputs": [
        {
          "data": {
            "text/plain": [
              "dict_keys(['loss', 'accuracy', 'val_loss', 'val_accuracy'])"
            ]
          },
          "execution_count": 67,
          "metadata": {},
          "output_type": "execute_result"
        }
      ],
      "source": [
        "history.history.keys()"
      ]
    },
    {
      "cell_type": "code",
      "execution_count": 68,
      "metadata": {
        "id": "_HlEkRagqc3D"
      },
      "outputs": [
        {
          "name": "stdout",
          "output_type": "stream",
          "text": [
            "Model: \"sequential_4\"\n",
            "_________________________________________________________________\n",
            "Layer (type)                 Output Shape              Param #   \n",
            "=================================================================\n",
            "flatten (Flatten)            (None, 784)               0         \n",
            "_________________________________________________________________\n",
            "dense1 (Dense)               (None, 100)               78500     \n",
            "_________________________________________________________________\n",
            "dense2 (Dense)               (None, 64)                6464      \n",
            "_________________________________________________________________\n",
            "dense3 (Dense)               (None, 32)                2080      \n",
            "_________________________________________________________________\n",
            "output (Dense)               (None, 10)                330       \n",
            "=================================================================\n",
            "Total params: 87,374\n",
            "Trainable params: 87,374\n",
            "Non-trainable params: 0\n",
            "_________________________________________________________________\n"
          ]
        }
      ],
      "source": [
        "loaded_model2 = load_model('keras_best_model.h5')\n",
        "loaded_model2.summary()"
      ]
    },
    {
      "cell_type": "markdown",
      "metadata": {
        "id": "osAT_QOp7roL"
      },
      "source": [
        "### EarlyStopping\n",
        "- 일정 에포크(patience) 동안 검증 세트에 대한 점수가 오르지 않으면 학습을 멈춤\n",
        "\n",
        "- 모델이 향상되지 않으면 학습이 자동으로 중지되므로,  \n",
        "  에포크(epochs) 숫자를 크게 해도 무방\n",
        "\n",
        "- 학습이 끝난 후의 최상의 가중치를 복원하기 때문에 모델을 따로 복원할 필요없음"
      ]
    },
    {
      "cell_type": "code",
      "execution_count": 69,
      "metadata": {
        "id": "JT61djueqczo"
      },
      "outputs": [
        {
          "name": "stdout",
          "output_type": "stream",
          "text": [
            "Epoch 1/50\n",
            "1313/1313 [==============================] - 8s 6ms/step - loss: 0.9109 - accuracy: 0.7418 - val_loss: 0.3871 - val_accuracy: 0.8896\n",
            "Epoch 2/50\n",
            "1313/1313 [==============================] - 5s 4ms/step - loss: 0.3421 - accuracy: 0.9005 - val_loss: 0.3083 - val_accuracy: 0.9102\n",
            "Epoch 3/50\n",
            "1313/1313 [==============================] - 5s 4ms/step - loss: 0.2723 - accuracy: 0.9211 - val_loss: 0.2509 - val_accuracy: 0.9278\n",
            "Epoch 4/50\n",
            "1313/1313 [==============================] - 7s 5ms/step - loss: 0.2297 - accuracy: 0.9335 - val_loss: 0.2246 - val_accuracy: 0.9356\n",
            "Epoch 5/50\n",
            "1313/1313 [==============================] - 6s 4ms/step - loss: 0.1984 - accuracy: 0.9429 - val_loss: 0.2092 - val_accuracy: 0.9398\n",
            "Epoch 6/50\n",
            "1313/1313 [==============================] - 6s 5ms/step - loss: 0.1765 - accuracy: 0.9490 - val_loss: 0.1890 - val_accuracy: 0.9458\n",
            "Epoch 7/50\n",
            "1313/1313 [==============================] - 6s 5ms/step - loss: 0.1575 - accuracy: 0.9539 - val_loss: 0.1785 - val_accuracy: 0.9484\n",
            "Epoch 8/50\n",
            "1313/1313 [==============================] - 7s 6ms/step - loss: 0.1428 - accuracy: 0.9597 - val_loss: 0.1538 - val_accuracy: 0.9554\n",
            "Epoch 9/50\n",
            "1313/1313 [==============================] - 5s 4ms/step - loss: 0.1295 - accuracy: 0.9617 - val_loss: 0.1454 - val_accuracy: 0.9577\n",
            "Epoch 10/50\n",
            "1313/1313 [==============================] - 5s 4ms/step - loss: 0.1187 - accuracy: 0.9655 - val_loss: 0.1393 - val_accuracy: 0.9591\n",
            "Epoch 11/50\n",
            "1313/1313 [==============================] - 5s 4ms/step - loss: 0.1096 - accuracy: 0.9684 - val_loss: 0.1330 - val_accuracy: 0.9617\n",
            "Epoch 12/50\n",
            "1313/1313 [==============================] - 5s 4ms/step - loss: 0.1009 - accuracy: 0.9706 - val_loss: 0.1330 - val_accuracy: 0.9621\n",
            "Epoch 13/50\n",
            "1313/1313 [==============================] - 6s 4ms/step - loss: 0.0937 - accuracy: 0.9727 - val_loss: 0.1237 - val_accuracy: 0.9631\n",
            "Epoch 14/50\n",
            "1313/1313 [==============================] - 9s 7ms/step - loss: 0.0873 - accuracy: 0.9748 - val_loss: 0.1173 - val_accuracy: 0.9653\n",
            "Epoch 15/50\n",
            "1313/1313 [==============================] - 5s 4ms/step - loss: 0.0808 - accuracy: 0.9767 - val_loss: 0.1168 - val_accuracy: 0.9657\n",
            "Epoch 16/50\n",
            "1313/1313 [==============================] - 5s 4ms/step - loss: 0.0748 - accuracy: 0.9786 - val_loss: 0.1183 - val_accuracy: 0.9632\n",
            "Epoch 17/50\n",
            "1313/1313 [==============================] - 5s 4ms/step - loss: 0.0699 - accuracy: 0.9795 - val_loss: 0.1130 - val_accuracy: 0.9659\n",
            "Epoch 18/50\n",
            "1313/1313 [==============================] - 5s 4ms/step - loss: 0.0650 - accuracy: 0.9816 - val_loss: 0.1146 - val_accuracy: 0.9658\n",
            "Epoch 19/50\n",
            "1313/1313 [==============================] - 5s 4ms/step - loss: 0.0610 - accuracy: 0.9831 - val_loss: 0.1084 - val_accuracy: 0.9674\n",
            "Epoch 20/50\n",
            "1313/1313 [==============================] - 5s 4ms/step - loss: 0.0573 - accuracy: 0.9838 - val_loss: 0.1183 - val_accuracy: 0.9654\n",
            "Epoch 21/50\n",
            "1313/1313 [==============================] - 5s 4ms/step - loss: 0.0533 - accuracy: 0.9845 - val_loss: 0.1096 - val_accuracy: 0.9673\n",
            "Epoch 22/50\n",
            "1313/1313 [==============================] - 5s 4ms/step - loss: 0.0494 - accuracy: 0.9861 - val_loss: 0.1078 - val_accuracy: 0.9684\n",
            "Epoch 23/50\n",
            "1313/1313 [==============================] - 5s 4ms/step - loss: 0.0468 - accuracy: 0.9870 - val_loss: 0.1022 - val_accuracy: 0.9696\n",
            "Epoch 24/50\n",
            "1313/1313 [==============================] - 5s 4ms/step - loss: 0.0432 - accuracy: 0.9874 - val_loss: 0.1115 - val_accuracy: 0.9671\n",
            "Epoch 25/50\n",
            "1313/1313 [==============================] - 5s 4ms/step - loss: 0.0404 - accuracy: 0.9890 - val_loss: 0.1028 - val_accuracy: 0.9703\n",
            "Epoch 26/50\n",
            "1313/1313 [==============================] - 8s 6ms/step - loss: 0.0380 - accuracy: 0.9893 - val_loss: 0.1019 - val_accuracy: 0.9708\n",
            "Epoch 27/50\n",
            "1313/1313 [==============================] - 7s 6ms/step - loss: 0.0353 - accuracy: 0.9906 - val_loss: 0.1017 - val_accuracy: 0.9706\n",
            "Epoch 28/50\n",
            "1313/1313 [==============================] - 7s 6ms/step - loss: 0.0330 - accuracy: 0.9914 - val_loss: 0.1036 - val_accuracy: 0.9703\n",
            "Epoch 29/50\n",
            "1313/1313 [==============================] - 8s 6ms/step - loss: 0.0308 - accuracy: 0.9917 - val_loss: 0.1036 - val_accuracy: 0.9715\n",
            "Epoch 30/50\n",
            "1313/1313 [==============================] - 8s 6ms/step - loss: 0.0284 - accuracy: 0.9926 - val_loss: 0.1015 - val_accuracy: 0.9714\n",
            "Epoch 31/50\n",
            "1313/1313 [==============================] - 7s 5ms/step - loss: 0.0268 - accuracy: 0.9932 - val_loss: 0.1082 - val_accuracy: 0.9688\n",
            "Epoch 32/50\n",
            "1313/1313 [==============================] - 8s 6ms/step - loss: 0.0245 - accuracy: 0.9942 - val_loss: 0.1080 - val_accuracy: 0.9697\n",
            "Epoch 33/50\n",
            "1313/1313 [==============================] - 8s 6ms/step - loss: 0.0229 - accuracy: 0.9946 - val_loss: 0.1061 - val_accuracy: 0.9713\n"
          ]
        }
      ],
      "source": [
        "model = build_model()\n",
        "\n",
        "cp = ModelCheckpoint('keras_best_mode.h5', save_best_only=True)\n",
        "early_stopping_cb = EarlyStopping(patience=3, monitor='val_loss',\n",
        "                                    restore_best_weights=True)\n",
        "\n",
        "history = model.fit(x_train, y_train, epochs=50,\n",
        "                    validation_data = (x_val, y_val), callbacks=[cp, early_stopping_cb])"
      ]
    },
    {
      "cell_type": "markdown",
      "metadata": {
        "id": "sPadOgZM9bM-"
      },
      "source": [
        "### LearningRateScheduler"
      ]
    },
    {
      "cell_type": "code",
      "execution_count": 70,
      "metadata": {
        "id": "njq81hTgqcwG"
      },
      "outputs": [],
      "source": [
        "def scheduler(epoch, learning_rate):\n",
        "    if epoch < 10:\n",
        "        return learning_rate\n",
        "    else:\n",
        "        return learning_rate * tf.math.exp(-0.1)"
      ]
    },
    {
      "cell_type": "code",
      "execution_count": 72,
      "metadata": {
        "id": "5AUc7PaMqcsd"
      },
      "outputs": [
        {
          "data": {
            "text/plain": [
              "0.01"
            ]
          },
          "execution_count": 72,
          "metadata": {},
          "output_type": "execute_result"
        }
      ],
      "source": [
        "model = build_model()\n",
        "\n",
        "round(model.optimizer.lr.numpy(), 5)"
      ]
    },
    {
      "cell_type": "code",
      "execution_count": 73,
      "metadata": {
        "id": "ZEH3d9__qco9"
      },
      "outputs": [
        {
          "data": {
            "text/plain": [
              "0.00607"
            ]
          },
          "execution_count": 73,
          "metadata": {},
          "output_type": "execute_result"
        }
      ],
      "source": [
        "lr_scheduler_cb = LearningRateScheduler(scheduler)\n",
        "history = model.fit(x_train, y_train, epochs=15,\n",
        "                    callbacks=[lr_scheduler_cb], verbose=0)\n",
        "round(model.optimizer.lr.numpy(), 5)"
      ]
    },
    {
      "cell_type": "markdown",
      "metadata": {
        "id": "A31OUv_C-QHX"
      },
      "source": [
        "### Tensorboard\n",
        "- 텐서보드를 이용하여 학습과정 모니터링"
      ]
    },
    {
      "cell_type": "markdown",
      "metadata": {
        "id": "CcDhXXgn_W2F"
      },
      "source": [
        "텐서보드를 사용하기 위해 logs폴더를 만들고, 학습이 진행되는 동안 로그 파일을 생성"
      ]
    },
    {
      "cell_type": "code",
      "execution_count": 75,
      "metadata": {
        "id": "zc38Lumyqclb"
      },
      "outputs": [
        {
          "data": {
            "text/plain": [
              "<keras.callbacks.TensorBoard at 0x7fd2fd9dd490>"
            ]
          },
          "execution_count": 75,
          "metadata": {},
          "output_type": "execute_result"
        }
      ],
      "source": [
        "TensorBoard(log_dir='.logs', histogram_freq=0,\n",
        "            write_graph=True, write_images=True)"
      ]
    },
    {
      "cell_type": "code",
      "execution_count": 76,
      "metadata": {
        "id": "XS1P1aDdqcgb"
      },
      "outputs": [
        {
          "name": "stdout",
          "output_type": "stream",
          "text": [
            "Epoch 1/30\n",
            "1313/1313 [==============================] - 11s 8ms/step - loss: 0.9095 - accuracy: 0.7302 - val_loss: 0.3617 - val_accuracy: 0.8943\n",
            "Epoch 2/30\n",
            "1313/1313 [==============================] - 10s 8ms/step - loss: 0.3197 - accuracy: 0.9082 - val_loss: 0.2940 - val_accuracy: 0.9117\n",
            "Epoch 3/30\n",
            "1313/1313 [==============================] - 10s 8ms/step - loss: 0.2560 - accuracy: 0.9255 - val_loss: 0.2389 - val_accuracy: 0.9308\n",
            "Epoch 4/30\n",
            "1313/1313 [==============================] - 10s 8ms/step - loss: 0.2165 - accuracy: 0.9381 - val_loss: 0.2183 - val_accuracy: 0.9361\n",
            "Epoch 5/30\n",
            "1313/1313 [==============================] - 8s 6ms/step - loss: 0.1894 - accuracy: 0.9447 - val_loss: 0.1977 - val_accuracy: 0.9436\n",
            "Epoch 6/30\n",
            "1313/1313 [==============================] - 8s 6ms/step - loss: 0.1677 - accuracy: 0.9504 - val_loss: 0.1794 - val_accuracy: 0.9479\n",
            "Epoch 7/30\n",
            "1313/1313 [==============================] - 6s 5ms/step - loss: 0.1504 - accuracy: 0.9564 - val_loss: 0.1722 - val_accuracy: 0.9492\n",
            "Epoch 8/30\n",
            "1313/1313 [==============================] - 7s 5ms/step - loss: 0.1359 - accuracy: 0.9599 - val_loss: 0.1490 - val_accuracy: 0.9569\n",
            "Epoch 9/30\n",
            "1313/1313 [==============================] - 7s 5ms/step - loss: 0.1235 - accuracy: 0.9637 - val_loss: 0.1445 - val_accuracy: 0.9583\n",
            "Epoch 10/30\n",
            "1313/1313 [==============================] - 7s 5ms/step - loss: 0.1135 - accuracy: 0.9661 - val_loss: 0.1372 - val_accuracy: 0.9599\n",
            "Epoch 11/30\n",
            "1313/1313 [==============================] - 8s 6ms/step - loss: 0.1036 - accuracy: 0.9706 - val_loss: 0.1325 - val_accuracy: 0.9600\n",
            "Epoch 12/30\n",
            "1313/1313 [==============================] - 7s 6ms/step - loss: 0.0963 - accuracy: 0.9714 - val_loss: 0.1286 - val_accuracy: 0.9617\n",
            "Epoch 13/30\n",
            "1313/1313 [==============================] - 10s 7ms/step - loss: 0.0891 - accuracy: 0.9738 - val_loss: 0.1201 - val_accuracy: 0.9641\n",
            "Epoch 14/30\n",
            "1313/1313 [==============================] - 8s 6ms/step - loss: 0.0830 - accuracy: 0.9756 - val_loss: 0.1203 - val_accuracy: 0.9648\n",
            "Epoch 15/30\n",
            "1313/1313 [==============================] - 8s 6ms/step - loss: 0.0763 - accuracy: 0.9777 - val_loss: 0.1278 - val_accuracy: 0.9621\n",
            "Epoch 16/30\n",
            "1313/1313 [==============================] - 6s 5ms/step - loss: 0.0710 - accuracy: 0.9792 - val_loss: 0.1157 - val_accuracy: 0.9652\n",
            "Epoch 17/30\n",
            "1313/1313 [==============================] - 6s 4ms/step - loss: 0.0660 - accuracy: 0.9808 - val_loss: 0.1112 - val_accuracy: 0.9663\n",
            "Epoch 18/30\n",
            "1313/1313 [==============================] - 5s 4ms/step - loss: 0.0607 - accuracy: 0.9828 - val_loss: 0.1113 - val_accuracy: 0.9671\n",
            "Epoch 19/30\n",
            "1313/1313 [==============================] - 6s 4ms/step - loss: 0.0571 - accuracy: 0.9831 - val_loss: 0.1106 - val_accuracy: 0.9663\n",
            "Epoch 20/30\n",
            "1313/1313 [==============================] - 5s 4ms/step - loss: 0.0528 - accuracy: 0.9844 - val_loss: 0.1163 - val_accuracy: 0.9659\n",
            "Epoch 21/30\n",
            "1313/1313 [==============================] - 6s 4ms/step - loss: 0.0492 - accuracy: 0.9861 - val_loss: 0.1086 - val_accuracy: 0.9675\n",
            "Epoch 22/30\n",
            "1313/1313 [==============================] - 6s 4ms/step - loss: 0.0452 - accuracy: 0.9871 - val_loss: 0.1101 - val_accuracy: 0.9680\n",
            "Epoch 23/30\n",
            "1313/1313 [==============================] - 8s 6ms/step - loss: 0.0426 - accuracy: 0.9884 - val_loss: 0.1040 - val_accuracy: 0.9684\n",
            "Epoch 24/30\n",
            "1313/1313 [==============================] - 6s 4ms/step - loss: 0.0395 - accuracy: 0.9888 - val_loss: 0.1087 - val_accuracy: 0.9678\n",
            "Epoch 25/30\n",
            "1313/1313 [==============================] - 6s 5ms/step - loss: 0.0366 - accuracy: 0.9900 - val_loss: 0.1099 - val_accuracy: 0.9686\n",
            "Epoch 26/30\n",
            "1313/1313 [==============================] - 5s 4ms/step - loss: 0.0340 - accuracy: 0.9909 - val_loss: 0.1113 - val_accuracy: 0.9674\n",
            "Epoch 27/30\n",
            "1313/1313 [==============================] - 3s 3ms/step - loss: 0.0316 - accuracy: 0.9919 - val_loss: 0.1066 - val_accuracy: 0.9701\n",
            "Epoch 28/30\n",
            "1313/1313 [==============================] - 3s 3ms/step - loss: 0.0299 - accuracy: 0.9923 - val_loss: 0.1057 - val_accuracy: 0.9697\n",
            "Epoch 29/30\n",
            "1313/1313 [==============================] - 3s 2ms/step - loss: 0.0273 - accuracy: 0.9930 - val_loss: 0.1051 - val_accuracy: 0.9706\n",
            "Epoch 30/30\n",
            "1313/1313 [==============================] - 3s 2ms/step - loss: 0.0254 - accuracy: 0.9939 - val_loss: 0.1036 - val_accuracy: 0.9709\n"
          ]
        },
        {
          "data": {
            "text/plain": [
              "<keras.callbacks.History at 0x7fd2cf947430>"
            ]
          },
          "execution_count": 76,
          "metadata": {},
          "output_type": "execute_result"
        }
      ],
      "source": [
        "log_dir = './logs'\n",
        "\n",
        "tensor_board_cb = [TensorBoard(log_dir = log_dir, histogram_freq=1,\n",
        "                    write_graph=True, write_images=True)]\n",
        "\n",
        "model = build_model()\n",
        "\n",
        "model.fit(x_train, y_train, validation_data=(x_val, y_val), epochs=30,\n",
        "            callbacks=[tensor_board_cb])"
      ]
    },
    {
      "cell_type": "code",
      "execution_count": 77,
      "metadata": {
        "id": "veufv36_BiZM"
      },
      "outputs": [],
      "source": [
        "%load_ext tensorboard"
      ]
    },
    {
      "cell_type": "markdown",
      "metadata": {
        "id": "nkmm5b03CBQb"
      },
      "source": [
        "load하는데 시간 소요\n",
        "\n",
        "- load가 안된다면 port번호를 바꿔서 실행!  \n",
        "  ex) %tensorboard --logdir {log_dir} port 8000"
      ]
    },
    {
      "cell_type": "code",
      "execution_count": 79,
      "metadata": {
        "id": "RgN2oO6dBnmN"
      },
      "outputs": [
        {
          "data": {
            "text/plain": [
              "Reusing TensorBoard on port 6006 (pid 30402), started 0:00:39 ago. (Use '!kill 30402' to kill it.)"
            ]
          },
          "metadata": {},
          "output_type": "display_data"
        },
        {
          "data": {
            "text/html": [
              "\n",
              "      <iframe id=\"tensorboard-frame-5609bc5b81300f59\" width=\"100%\" height=\"800\" frameborder=\"0\">\n",
              "      </iframe>\n",
              "      <script>\n",
              "        (function() {\n",
              "          const frame = document.getElementById(\"tensorboard-frame-5609bc5b81300f59\");\n",
              "          const url = new URL(\"http://localhost\");\n",
              "          const port = 6006;\n",
              "          if (port) {\n",
              "            url.port = port;\n",
              "          }\n",
              "          frame.src = url;\n",
              "        })();\n",
              "      </script>\n",
              "    "
            ],
            "text/plain": [
              "<IPython.core.display.HTML object>"
            ]
          },
          "metadata": {},
          "output_type": "display_data"
        }
      ],
      "source": [
        "%tensorboard --logdir {log_dir}"
      ]
    },
    {
      "cell_type": "code",
      "execution_count": null,
      "metadata": {},
      "outputs": [],
      "source": []
    }
  ],
  "metadata": {
    "colab": {
      "collapsed_sections": [],
      "name": "_3 케라스(Keras) 기초부터 모델 생성까지.ipynb",
      "provenance": []
    },
    "kernelspec": {
      "display_name": "Python 3.8.8 ('base')",
      "language": "python",
      "name": "python3"
    },
    "language_info": {
      "codemirror_mode": {
        "name": "ipython",
        "version": 3
      },
      "file_extension": ".py",
      "mimetype": "text/x-python",
      "name": "python",
      "nbconvert_exporter": "python",
      "pygments_lexer": "ipython3",
      "version": "3.8.8"
    },
    "vscode": {
      "interpreter": {
        "hash": "3067ead486e059ec00ffe7555bdb889e6e264a24dc711bf108106cc7baee8d5d"
      }
    }
  },
  "nbformat": 4,
  "nbformat_minor": 0
}
