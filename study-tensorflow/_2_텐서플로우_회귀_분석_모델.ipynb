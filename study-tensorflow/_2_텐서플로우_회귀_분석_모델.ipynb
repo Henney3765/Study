{
  "cells": [
    {
      "cell_type": "markdown",
      "metadata": {
        "id": "ME4xVKRSvWxH"
      },
      "source": [
        "# 텐서플로우 회귀 분석 모델\n",
        "\n",
        "- 다양한 방법이 존재\n",
        "- 텐서플로우2만 사용하는 방법, 케라스를 이용한 방법, 둘을 모두 섞은 방법 등등  \n"
      ]
    },
    {
      "cell_type": "markdown",
      "metadata": {
        "id": "Lw9JHQ2btU9O"
      },
      "source": [
        "## 선형 회귀(Linear Regression)"
      ]
    },
    {
      "cell_type": "code",
      "execution_count": 35,
      "metadata": {
        "id": "rc0SydSstXAj"
      },
      "outputs": [],
      "source": [
        "import numpy as np\n",
        "import tensorflow as tf\n",
        "import matplotlib.pyplot as plt\n",
        "plt.style.use('seaborn-white')"
      ]
    },
    {
      "cell_type": "code",
      "execution_count": 36,
      "metadata": {
        "id": "qvFld-m-tcnD"
      },
      "outputs": [],
      "source": [
        "learning_rate = 0.01\n",
        "training_steps = 1000"
      ]
    },
    {
      "cell_type": "code",
      "execution_count": 37,
      "metadata": {
        "id": "0-3wzjHjtgBg"
      },
      "outputs": [],
      "source": [
        "X = np.random.randn(50)\n",
        "Y = 2 * X + np.random.randn(50)"
      ]
    },
    {
      "cell_type": "code",
      "execution_count": 38,
      "metadata": {
        "id": "yAdt62LKti-W"
      },
      "outputs": [],
      "source": [
        "W = tf.Variable(np.random.randn(), name='weight')\n",
        "b = tf.Variable(np.random.randn(), name='bias')\n",
        "\n",
        "def linear_regression(x):\n",
        "    return W * x + b\n",
        "\n",
        "def mean_square(y_pred, y_true):\n",
        "    return tf.reduce_mean(tf.square(y_pred - y_true))\n",
        "\n",
        "optimizer = tf.optimizers.SGD(learning_rate)"
      ]
    },
    {
      "cell_type": "code",
      "execution_count": 39,
      "metadata": {
        "id": "P8mLzC5vuCwp"
      },
      "outputs": [],
      "source": [
        "def run_optimizer():\n",
        "    with tf.GradientTape() as tape:\n",
        "        pred = linear_regression(X)\n",
        "        loss = mean_square(pred, Y)\n",
        "\n",
        "    gradients = tape.gradient(loss, [W, b])\n",
        "    optimizer.apply_gradients(zip(gradients, [W, b]))"
      ]
    },
    {
      "cell_type": "code",
      "execution_count": 40,
      "metadata": {
        "id": "dpMeJIaquPld"
      },
      "outputs": [
        {
          "name": "stdout",
          "output_type": "stream",
          "text": [
            "Step:   50\tLoss: 2.6878\tW: 0.9451\tB: -0.3518\n",
            "Step:  100\tLoss: 1.4191\tW: 1.6667\tB: -0.0550\n",
            "Step:  150\tLoss: 1.1520\tW: 1.9998\tB: 0.0762\n",
            "Step:  200\tLoss: 1.0958\tW: 2.1534\tB: 0.1345\n",
            "Step:  250\tLoss: 1.0839\tW: 2.2242\tB: 0.1607\n",
            "Step:  300\tLoss: 1.0814\tW: 2.2567\tB: 0.1725\n",
            "Step:  350\tLoss: 1.0809\tW: 2.2717\tB: 0.1778\n",
            "Step:  400\tLoss: 1.0808\tW: 2.2786\tB: 0.1802\n",
            "Step:  450\tLoss: 1.0807\tW: 2.2818\tB: 0.1813\n",
            "Step:  500\tLoss: 1.0807\tW: 2.2832\tB: 0.1818\n",
            "Step:  550\tLoss: 1.0807\tW: 2.2839\tB: 0.1820\n",
            "Step:  600\tLoss: 1.0807\tW: 2.2842\tB: 0.1821\n",
            "Step:  650\tLoss: 1.0807\tW: 2.2843\tB: 0.1822\n",
            "Step:  700\tLoss: 1.0807\tW: 2.2844\tB: 0.1822\n",
            "Step:  750\tLoss: 1.0807\tW: 2.2844\tB: 0.1822\n",
            "Step:  800\tLoss: 1.0807\tW: 2.2845\tB: 0.1822\n",
            "Step:  850\tLoss: 1.0807\tW: 2.2845\tB: 0.1822\n",
            "Step:  900\tLoss: 1.0807\tW: 2.2845\tB: 0.1822\n",
            "Step:  950\tLoss: 1.0807\tW: 2.2845\tB: 0.1822\n",
            "Step: 1000\tLoss: 1.0807\tW: 2.2845\tB: 0.1822\n"
          ]
        }
      ],
      "source": [
        "for step in range(1, training_steps+1):\n",
        "    run_optimizer()\n",
        "\n",
        "    if step % 50 == 0:\n",
        "        pred = linear_regression(X)\n",
        "        loss = mean_square(pred, Y)\n",
        "        print(\"Step: {:4d}\\tLoss: {:.4f}\\tW: {:.4f}\\tB: {:.4f}\".format(step, loss, W.numpy(), b.numpy()))"
      ]
    },
    {
      "cell_type": "code",
      "execution_count": 41,
      "metadata": {
        "id": "is397GkquXu1"
      },
      "outputs": [
        {
          "data": {
            "image/png": "[encoded data removed]",
            "text/plain": [
              "<Figure size 432x288 with 1 Axes>"
            ]
          },
          "metadata": {},
          "output_type": "display_data"
        }
      ],
      "source": [
        "plt.plot(X, Y, 'ro', label='Data')\n",
        "plt.plot(X, np.array(W*X+b), label='Fitted Line')\n",
        "plt.legend()\n",
        "plt.grid()\n",
        "plt.show()"
      ]
    },
    {
      "cell_type": "markdown",
      "metadata": {
        "id": "hmwhh8v7ooEh"
      },
      "source": [
        "## 다항 회귀 (Nonlinear Regression)\n"
      ]
    },
    {
      "cell_type": "markdown",
      "metadata": {
        "id": "JzPHMupUouoj"
      },
      "source": [
        "### modules import"
      ]
    },
    {
      "cell_type": "code",
      "execution_count": 65,
      "metadata": {
        "id": "nwjaLZxmosFb"
      },
      "outputs": [],
      "source": [
        "from tensorflow.keras.optimizers import Adam"
      ]
    },
    {
      "cell_type": "markdown",
      "metadata": {
        "id": "a4Eypd3lqIH7"
      },
      "source": [
        "### Hyper Parameters"
      ]
    },
    {
      "cell_type": "code",
      "execution_count": 66,
      "metadata": {
        "id": "PwYv4RjrqKDk"
      },
      "outputs": [],
      "source": [
        "epochs = 1000\n",
        "learning_rate = 0.04"
      ]
    },
    {
      "cell_type": "markdown",
      "metadata": {
        "id": "SBFf3xYkpK__"
      },
      "source": [
        "### 변수 지정"
      ]
    },
    {
      "cell_type": "code",
      "execution_count": 67,
      "metadata": {
        "id": "rdYHM586osJT"
      },
      "outputs": [],
      "source": [
        "a = tf.Variable(np.random.randn())\n",
        "b = tf.Variable(np.random.randn())\n",
        "c = tf.Variable(np.random.randn())"
      ]
    },
    {
      "cell_type": "code",
      "execution_count": 68,
      "metadata": {
        "id": "n0BoMoSgqmR2"
      },
      "outputs": [
        {
          "name": "stdout",
          "output_type": "stream",
          "text": [
            "-1.6876321\n",
            "-1.4056385\n",
            "-0.2810027\n"
          ]
        }
      ],
      "source": [
        "print(a.numpy())\n",
        "print(b.numpy())\n",
        "print(c.numpy())"
      ]
    },
    {
      "cell_type": "markdown",
      "metadata": {
        "id": "3-ks5u2ypTtb"
      },
      "source": [
        "### 데이터 지정"
      ]
    },
    {
      "cell_type": "code",
      "execution_count": 69,
      "metadata": {
        "id": "rgVzGBLEor8l"
      },
      "outputs": [],
      "source": [
        "X = np.random.randn(50)\n",
        "Y = X**2 + X*np.random.randn(50)"
      ]
    },
    {
      "cell_type": "code",
      "execution_count": 70,
      "metadata": {
        "id": "uodrzxT1rU1G"
      },
      "outputs": [
        {
          "data": {
            "image/png": "[encoded data removed]",
            "text/plain": [
              "<Figure size 432x288 with 1 Axes>"
            ]
          },
          "metadata": {},
          "output_type": "display_data"
        }
      ],
      "source": [
        "line_x = np.arange(min(X), max(X), 0.001)\n",
        "line_y = a*line_x**2 + b*line_x + c\n",
        "\n",
        "x_ = np.arange(-4.0, 4, 0.001)\n",
        "y_ = a*x_**2 + b*x_ + c\n",
        "\n",
        "plt.scatter(X, Y, label='X data')\n",
        "plt.plot(x_, y_, 'g--', label='origin line')\n",
        "plt.plot(line_x, line_y, 'r--', label='before training')\n",
        "plt.xlim(-4.0, 4.0)\n",
        "plt.legend()\n",
        "plt.grid()\n",
        "plt.show()"
      ]
    },
    {
      "cell_type": "markdown",
      "metadata": {
        "id": "7C56lq45uM-V"
      },
      "source": [
        "### Util Functions"
      ]
    },
    {
      "cell_type": "code",
      "execution_count": 71,
      "metadata": {
        "id": "_pvdH6U9uJ8i"
      },
      "outputs": [],
      "source": [
        "def compute_loss():\n",
        "    pred_y = a*(np.array(X)**2) + b*np.array(X) + c\n",
        "    loss = tf.reduce_mean((pred_y - Y)**2)\n",
        "    return loss"
      ]
    },
    {
      "cell_type": "markdown",
      "metadata": {
        "id": "kcme5VWPp6fz"
      },
      "source": [
        "### Optimizer"
      ]
    },
    {
      "cell_type": "code",
      "execution_count": 72,
      "metadata": {
        "id": "R4TSy8j2or5J"
      },
      "outputs": [],
      "source": [
        "optimizer = Adam(learning_rate=learning_rate)"
      ]
    },
    {
      "cell_type": "markdown",
      "metadata": {
        "id": "5QVfbg2uqEx8"
      },
      "source": [
        "### 학습"
      ]
    },
    {
      "cell_type": "code",
      "execution_count": 73,
      "metadata": {
        "id": "DBjCdWz9or1p"
      },
      "outputs": [
        {
          "name": "stdout",
          "output_type": "stream",
          "text": [
            "epoch:  100\ta: 0.4018\tb: -0.1145\tc: 0.4801\n",
            "epoch:  200\ta: 0.9844\tb: 0.0788\tc: -0.0303\n",
            "epoch:  300\ta: 1.0999\tb: 0.1169\tc: -0.1327\n",
            "epoch:  400\ta: 1.1099\tb: 0.1202\tc: -0.1415\n",
            "epoch:  500\ta: 1.1102\tb: 0.1203\tc: -0.1418\n",
            "epoch:  600\ta: 1.1102\tb: 0.1203\tc: -0.1418\n",
            "epoch:  700\ta: 1.1102\tb: 0.1203\tc: -0.1418\n",
            "epoch:  800\ta: 1.1102\tb: 0.1203\tc: -0.1418\n",
            "epoch:  900\ta: 1.1102\tb: 0.1202\tc: -0.1418\n",
            "epoch: 1000\ta: 1.1102\tb: 0.1202\tc: -0.1418\n"
          ]
        }
      ],
      "source": [
        "for epoch in range(1, epochs+1):\n",
        "    optimizer.minimize(compute_loss, var_list=[a, b, c])\n",
        "\n",
        "    if epoch % 100 == 0:\n",
        "        print(\"epoch: {:4d}\\ta: {:.4f}\\tb: {:.4f}\\tc: {:.4f}\".format(epoch, a.numpy(), b.numpy(), c.numpy()))"
      ]
    },
    {
      "cell_type": "markdown",
      "metadata": {
        "id": "Fbyej01IumFX"
      },
      "source": [
        "### 학습 후의 회귀선"
      ]
    },
    {
      "cell_type": "code",
      "execution_count": 74,
      "metadata": {
        "id": "gKqDyDwXugdP"
      },
      "outputs": [
        {
          "data": {
            "image/png": "[encoded data removed]",
            "text/plain": [
              "<Figure size 432x288 with 1 Axes>"
            ]
          },
          "metadata": {},
          "output_type": "display_data"
        }
      ],
      "source": [
        "line_x = np.arange(min(X), max(X), 0.001)\n",
        "line_y = a*line_x**2 + b*line_x + c\n",
        "\n",
        "plt.scatter(X, Y, label='X data')\n",
        "plt.plot(x_, y_, 'g--', label='origin line')\n",
        "plt.plot(line_x, line_y, 'r--', label='after training')\n",
        "plt.xlim(-4.0, 4.0)\n",
        "plt.legend()\n",
        "plt.grid()\n",
        "plt.show()"
      ]
    },
    {
      "cell_type": "markdown",
      "metadata": {
        "id": "jtCFXjS6uwry"
      },
      "source": [
        "## 로지스틱 회귀(Logistic Regression)\n",
        "- 다항 분류, MNIST"
      ]
    },
    {
      "cell_type": "markdown",
      "metadata": {
        "id": "GIdxzXa1vJmt"
      },
      "source": [
        "### modules import"
      ]
    },
    {
      "cell_type": "code",
      "execution_count": 107,
      "metadata": {
        "id": "LGHeQjgYumXM"
      },
      "outputs": [],
      "source": [
        "from tensorflow.keras.datasets import mnist"
      ]
    },
    {
      "cell_type": "markdown",
      "metadata": {
        "id": "96xeDaPJvFW1"
      },
      "source": [
        "### 하이퍼 파라미터 (Hyper Parameter)\n"
      ]
    },
    {
      "cell_type": "code",
      "execution_count": 108,
      "metadata": {
        "id": "-lPlvJz1u6k-"
      },
      "outputs": [],
      "source": [
        "num_classes = 10\n",
        "num_features = 28*28\n",
        "\n",
        "learning_rate = 0.1\n",
        "training_steps = 1000\n",
        "batch_size = 256"
      ]
    },
    {
      "cell_type": "markdown",
      "metadata": {
        "id": "ZM5M9h8NvDWV"
      },
      "source": [
        "### 데이터 로드"
      ]
    },
    {
      "cell_type": "code",
      "execution_count": 109,
      "metadata": {
        "id": "qnobrT26vAvQ"
      },
      "outputs": [],
      "source": [
        "(x_train, y_train), (x_test, y_test) = mnist.load_data()\n",
        "\n",
        "x_train, x_test = np.array(x_train, np.float32), np.array(x_test, np.float32)\n",
        "x_train, x_test = x_train.reshape([-1, num_features]), x_test.reshape([-1, num_features])\n",
        "x_train, x_test = x_train / 255., x_test / 255."
      ]
    },
    {
      "cell_type": "markdown",
      "metadata": {
        "id": "o3bJVBPtve43"
      },
      "source": [
        "### tf.data API 사용\n",
        "- 03 에서 다시 다룸 "
      ]
    },
    {
      "cell_type": "code",
      "execution_count": 144,
      "metadata": {
        "id": "-OWS2nV_vPly"
      },
      "outputs": [],
      "source": [
        "train_data = tf.data.Dataset.from_tensor_slices((x_train, y_train))\n",
        "train_data = train_data.repeat().shuffle(5000).batch(batch_size).prefetch(1)"
      ]
    },
    {
      "cell_type": "markdown",
      "metadata": {
        "id": "fHbbQ29awub_"
      },
      "source": [
        "### 변수 지정"
      ]
    },
    {
      "cell_type": "code",
      "execution_count": 145,
      "metadata": {
        "id": "NTMKizyIww0x"
      },
      "outputs": [],
      "source": [
        "W = tf.Variable(tf.random.normal([num_features, num_classes]), name='weight')\n",
        "b = tf.Variable(tf.zeros([num_classes]), name='bias')"
      ]
    },
    {
      "cell_type": "markdown",
      "metadata": {
        "id": "kiK9LRUNwxC1"
      },
      "source": [
        "### Util Functions"
      ]
    },
    {
      "cell_type": "code",
      "execution_count": 154,
      "metadata": {
        "id": "ylkNeSdhvbi6"
      },
      "outputs": [],
      "source": [
        "def logistic_regression(x):\n",
        "    return tf.nn.softmax(tf.matmul(x, W) + b)\n",
        "\n",
        "def cross_entropy(y_pred, y_true):\n",
        "    y_true = tf.one_hot(y_true, depth=num_classes)\n",
        "    y_pred = tf.clip_by_value(y_pred, 1e-9, 1.)\n",
        "\n",
        "    return tf.reduce_mean(-tf.reduce_sum(y_true * tf.math.log(y_pred), 1))\n",
        "\n",
        "def accuracy(y_pred, y_true):\n",
        "    correct_prediction = tf.equal(tf.argmax(y_pred, 1), tf.cast(y_true, tf.int64))\n",
        "    return tf.reduce_mean(tf.cast(correct_prediction, tf.float32))"
      ]
    },
    {
      "cell_type": "markdown",
      "metadata": {
        "id": "ePdcyFeUxVNu"
      },
      "source": [
        "### Optimizer"
      ]
    },
    {
      "cell_type": "code",
      "execution_count": 155,
      "metadata": {
        "id": "uAQHksH_xW6h"
      },
      "outputs": [],
      "source": [
        "optimizer = tf.optimizers.SGD(learning_rate)"
      ]
    },
    {
      "cell_type": "code",
      "execution_count": 156,
      "metadata": {
        "id": "hksbn4Njvvyk"
      },
      "outputs": [],
      "source": [
        "def run_optimizer(x, y):\n",
        "    with tf.GradientTape() as tape:\n",
        "        pred = logistic_regression(x)\n",
        "        loss = cross_entropy(pred, y)\n",
        "    \n",
        "    gradients = tape.gradient(loss, [W, b])\n",
        "    optimizer.apply_gradients(zip(gradients, [W, b]))"
      ]
    },
    {
      "cell_type": "markdown",
      "metadata": {
        "id": "6B0i4_VvzheR"
      },
      "source": [
        "### 학습 진행"
      ]
    },
    {
      "cell_type": "code",
      "execution_count": 157,
      "metadata": {
        "id": "k1z97_GVwrOV"
      },
      "outputs": [
        {
          "name": "stdout",
          "output_type": "stream",
          "text": [
            "step:   50\tloss: 7.2459\taccuracy: 0.1562\n",
            "step:  100\tloss: 4.3173\taccuracy: 0.3398\n",
            "step:  150\tloss: 3.3594\taccuracy: 0.4766\n",
            "step:  200\tloss: 2.6519\taccuracy: 0.5742\n",
            "step:  250\tloss: 1.8547\taccuracy: 0.6289\n",
            "step:  300\tloss: 1.9112\taccuracy: 0.6406\n",
            "step:  350\tloss: 2.0116\taccuracy: 0.6406\n",
            "step:  400\tloss: 1.4252\taccuracy: 0.7188\n",
            "step:  450\tloss: 1.3284\taccuracy: 0.7383\n",
            "step:  500\tloss: 1.5072\taccuracy: 0.7461\n",
            "step:  550\tloss: 1.1856\taccuracy: 0.7734\n",
            "step:  600\tloss: 1.1435\taccuracy: 0.7461\n",
            "step:  650\tloss: 1.4957\taccuracy: 0.7617\n",
            "step:  700\tloss: 0.7821\taccuracy: 0.8203\n",
            "step:  750\tloss: 0.9562\taccuracy: 0.7773\n",
            "step:  800\tloss: 1.2829\taccuracy: 0.7539\n",
            "step:  850\tloss: 0.8356\taccuracy: 0.8203\n",
            "step:  900\tloss: 1.2273\taccuracy: 0.7773\n",
            "step:  950\tloss: 0.8615\taccuracy: 0.8203\n",
            "step: 1000\tloss: 1.0112\taccuracy: 0.7812\n"
          ]
        }
      ],
      "source": [
        "for step, (batch_x, batch_y) in enumerate(train_data.take(training_steps), 1):\n",
        "    run_optimizer(batch_x, batch_y)\n",
        "\n",
        "    if step % 50 == 0:\n",
        "        pred = logistic_regression(batch_x)\n",
        "        loss = cross_entropy(pred, batch_y)\n",
        "        acc = accuracy(pred, batch_y)\n",
        "        print(\"step: {:4d}\\tloss: {:.4f}\\taccuracy: {:.4}\".format(step, loss, acc))"
      ]
    },
    {
      "cell_type": "markdown",
      "metadata": {
        "id": "RTv-fBSMzj3e"
      },
      "source": [
        "###  테스트"
      ]
    },
    {
      "cell_type": "code",
      "execution_count": 158,
      "metadata": {
        "id": "MlKYyRnWxbzs"
      },
      "outputs": [
        {
          "name": "stdout",
          "output_type": "stream",
          "text": [
            "Test accuracy: 0.8123000264167786\n"
          ]
        }
      ],
      "source": [
        "pred = logistic_regression(x_test)\n",
        "print(\"Test accuracy: {}\".format(accuracy(pred, y_test)))"
      ]
    },
    {
      "cell_type": "markdown",
      "metadata": {
        "id": "NX_R9BP3zkzH"
      },
      "source": [
        "### 시각화"
      ]
    },
    {
      "cell_type": "code",
      "execution_count": 162,
      "metadata": {
        "id": "Y2sVd13zyh3a"
      },
      "outputs": [
        {
          "data": {
            "image/png": "[encoded data removed]",
            "text/plain": [
              "<Figure size 1152x576 with 5 Axes>"
            ]
          },
          "metadata": {},
          "output_type": "display_data"
        }
      ],
      "source": [
        "num_images = 5\n",
        "test_images = x_test[:num_images]\n",
        "predictions = logistic_regression(test_images)\n",
        "\n",
        "plt.figure(figsize=(16, 8))\n",
        "for i in range(1, num_images+1):\n",
        "    plt.subplot(1, num_images, i)\n",
        "    plt.imshow(np.reshape(test_images[i-1], [28, 28]), cmap='gray')\n",
        "    plt.title(\"Model prediction: {}\".format(np.argmax(predictions.numpy()[i-1])))\n",
        "\n",
        "plt.show()"
      ]
    },
    {
      "cell_type": "code",
      "execution_count": null,
      "metadata": {},
      "outputs": [],
      "source": []
    }
  ],
  "metadata": {
    "accelerator": "GPU",
    "colab": {
      "collapsed_sections": [],
      "name": "_2 텐서플로우 회귀 분석 모델.ipynb",
      "provenance": []
    },
    "kernelspec": {
      "display_name": "Python 3.8.8 ('base')",
      "language": "python",
      "name": "python3"
    },
    "language_info": {
      "codemirror_mode": {
        "name": "ipython",
        "version": 3
      },
      "file_extension": ".py",
      "mimetype": "text/x-python",
      "name": "python",
      "nbconvert_exporter": "python",
      "pygments_lexer": "ipython3",
      "version": "3.8.8"
    },
    "vscode": {
      "interpreter": {
        "hash": "3067ead486e059ec00ffe7555bdb889e6e264a24dc711bf108106cc7baee8d5d"
      }
    }
  },
  "nbformat": 4,
  "nbformat_minor": 0
}
