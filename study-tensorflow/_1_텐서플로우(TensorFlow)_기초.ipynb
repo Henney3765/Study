{
  "cells": [
    {
      "cell_type": "markdown",
      "metadata": {
        "id": "mpf4TRENWJMZ"
      },
      "source": [
        "# 텐서플로우 (Tensorflow)\n",
        "\n",
        "<img src=\"https://upload.wikimedia.org/wikipedia/commons/thumb/1/11/TensorFlowLogo.svg/1200px-TensorFlowLogo.svg.png\" width=\"300\">\n",
        "\n",
        "- 가장 널리 쓰이는 딥러닝 프레임워크 중 하나\n",
        "\n",
        "- 구글이 주도적으로 개발하는 플랫폼\n",
        "\n",
        "- 파이썬, C++ API를 기본적으로 제공하고,  \n",
        "  자바스크립트(JavaScript), 자바(Java), 고(Go), 스위프트(Swift) 등 다양한 프로그래밍 언어를 지원\n",
        "\n",
        "- tf.keras를 중심으로 고수준 API 통합 (2.x 버전)\n",
        "\n",
        "- TPU(Tensor Processing Unit) 지원\n",
        "  - TPU는 GPU보다 전력을 적게 소모, 경제적\n",
        "  \n",
        "  - 일반적으로 32비트(float32)로 수행되는 곱셈 연산을 16비트(float16)로 낮춤"
      ]
    },
    {
      "cell_type": "markdown",
      "metadata": {
        "id": "a9-NEf2BWd4M"
      },
      "source": [
        "## 텐서플로우 아키텍쳐\n",
        "\n",
        "<img src=\"https://developers.google.com/machine-learning/crash-course/images/TFHierarchy.svg\">\n",
        "\n",
        "<sub>출처: https://developers.google.com/machine-learning/crash-course/first-steps-with-tensorflow/toolkit</sub>"
      ]
    },
    {
      "cell_type": "markdown",
      "metadata": {
        "id": "c_ktVhFhYUiE"
      },
      "source": [
        "## 텐서플로우 시작하기"
      ]
    },
    {
      "cell_type": "code",
      "execution_count": 1,
      "metadata": {
        "id": "SP9HL3ZvV0zR"
      },
      "outputs": [],
      "source": [
        "import numpy as np\n",
        "import tensorflow as tf"
      ]
    },
    {
      "cell_type": "code",
      "execution_count": 2,
      "metadata": {
        "id": "KvPQ0N4_YhDt"
      },
      "outputs": [
        {
          "name": "stdout",
          "output_type": "stream",
          "text": [
            "2.6.0\n"
          ]
        }
      ],
      "source": [
        "print(tf.__version__)"
      ]
    },
    {
      "cell_type": "markdown",
      "metadata": {
        "id": "d-9usyAXY7Gw"
      },
      "source": [
        "### 텐서(Tensor)의 객체\n",
        "- 타입(Type): `string`, `float32`, `float16`, `int32`, `int8` 등\n",
        "\n",
        "- 형상(Shape): 0, 1, 2차원 등의 데이터 차원 \n",
        "\n",
        "- 축(Rank): 차원의 개수"
      ]
    },
    {
      "cell_type": "markdown",
      "metadata": {
        "id": "dZeigiNEZODl"
      },
      "source": [
        "### 텐서의 차원과 연산"
      ]
    },
    {
      "cell_type": "code",
      "execution_count": 3,
      "metadata": {
        "id": "GMVq68gUYksh"
      },
      "outputs": [
        {
          "name": "stdout",
          "output_type": "stream",
          "text": [
            "tf.Tensor(0, shape=(), dtype=int32)\n",
            "tf.Tensor(2, shape=(), dtype=int32)\n"
          ]
        }
      ],
      "source": [
        "a = tf.constant(2)\n",
        "print(tf.rank(a))\n",
        "print(a)"
      ]
    },
    {
      "cell_type": "code",
      "execution_count": 4,
      "metadata": {},
      "outputs": [
        {
          "name": "stdout",
          "output_type": "stream",
          "text": [
            "tf.Tensor(1, shape=(), dtype=int32)\n",
            "tf.Tensor([2 3], shape=(2,), dtype=int32)\n"
          ]
        }
      ],
      "source": [
        "b = tf.constant([2, 3])\n",
        "print(tf.rank(b))\n",
        "print(b)"
      ]
    },
    {
      "cell_type": "code",
      "execution_count": 5,
      "metadata": {
        "id": "k74H8ImTZbWi"
      },
      "outputs": [
        {
          "name": "stdout",
          "output_type": "stream",
          "text": [
            "tf.Tensor(2, shape=(), dtype=int32)\n",
            "tf.Tensor(\n",
            "[[2 3]\n",
            " [6 7]], shape=(2, 2), dtype=int32)\n"
          ]
        }
      ],
      "source": [
        "c = tf.constant([[2, 3], [6, 7]])\n",
        "print(tf.rank(c))\n",
        "print(c)"
      ]
    },
    {
      "cell_type": "code",
      "execution_count": 6,
      "metadata": {
        "id": "WmCCc587wkTy"
      },
      "outputs": [
        {
          "name": "stdout",
          "output_type": "stream",
          "text": [
            "tf.Tensor(1, shape=(), dtype=int32)\n",
            "tf.Tensor([b'Hello'], shape=(1,), dtype=string)\n"
          ]
        }
      ],
      "source": [
        "d = tf.constant(['Hello'])\n",
        "print(tf.rank(d))\n",
        "print(d)"
      ]
    },
    {
      "cell_type": "markdown",
      "metadata": {
        "id": "z3mgwo7FZ_0S"
      },
      "source": [
        "### 난수 생성"
      ]
    },
    {
      "cell_type": "code",
      "execution_count": 8,
      "metadata": {
        "id": "eaT2dUJlZ2Cd"
      },
      "outputs": [
        {
          "name": "stdout",
          "output_type": "stream",
          "text": [
            "(1,)\n",
            "tf.Tensor([0.9579996], shape=(1,), dtype=float32)\n"
          ]
        }
      ],
      "source": [
        "rand = tf.random.uniform([1], 0, 1)\n",
        "print(rand.shape)\n",
        "print(rand)"
      ]
    },
    {
      "cell_type": "code",
      "execution_count": 9,
      "metadata": {},
      "outputs": [
        {
          "name": "stdout",
          "output_type": "stream",
          "text": [
            "(1, 2)\n",
            "tf.Tensor([[ 1.7843182 -0.3533296]], shape=(1, 2), dtype=float32)\n"
          ]
        }
      ],
      "source": [
        "rand2 = tf.random.normal([1, 2], 0, 1) # shape, mean, stddev\n",
        "print(rand2.shape)\n",
        "print(rand2)"
      ]
    },
    {
      "cell_type": "code",
      "execution_count": 11,
      "metadata": {
        "id": "KfgimJg9aFgB"
      },
      "outputs": [
        {
          "name": "stdout",
          "output_type": "stream",
          "text": [
            "(3, 2)\n",
            "tf.Tensor(\n",
            "[[ 0.00551937 -0.59386575]\n",
            " [ 0.24939714  0.6708401 ]\n",
            " [-1.1510667  -0.4335758 ]], shape=(3, 2), dtype=float32)\n"
          ]
        }
      ],
      "source": [
        "rand3 = tf.random.normal(shape=(3, 2), mean=0, stddev=1)\n",
        "print(rand3.shape)\n",
        "print(rand3)"
      ]
    },
    {
      "cell_type": "markdown",
      "metadata": {
        "id": "Za7HlqVba5wD"
      },
      "source": [
        "### 즉시 실행 모드 (Eager Mode) 지원\n",
        "- 즉시 실행모드를 통해 텐서플로우를 파이썬처럼 사용할 수 있음\n",
        "\n",
        "- 1.x 버전에서는 '그래프'를 생성하고, 초기화 한 뒤에 세션을 통해 **값을 흐르게 하는 작업**을 진행해야함\n"
      ]
    },
    {
      "cell_type": "code",
      "execution_count": 12,
      "metadata": {
        "id": "fVBqOSFrbQ1e"
      },
      "outputs": [],
      "source": [
        "a = tf.constant(3)\n",
        "b = tf.constant(2)"
      ]
    },
    {
      "cell_type": "code",
      "execution_count": 13,
      "metadata": {
        "id": "1btItwSEbdEO"
      },
      "outputs": [
        {
          "name": "stdout",
          "output_type": "stream",
          "text": [
            "tf.Tensor(5, shape=(), dtype=int32)\n",
            "tf.Tensor(5, shape=(), dtype=int32)\n"
          ]
        }
      ],
      "source": [
        "print(tf.add(a, b))\n",
        "print(a + b)"
      ]
    },
    {
      "cell_type": "code",
      "execution_count": 14,
      "metadata": {
        "id": "SaOXtxLpbfDC"
      },
      "outputs": [
        {
          "name": "stdout",
          "output_type": "stream",
          "text": [
            "tf.Tensor(1, shape=(), dtype=int32)\n",
            "tf.Tensor(1, shape=(), dtype=int32)\n"
          ]
        }
      ],
      "source": [
        "print(tf.subtract(a, b))\n",
        "print(a - b)"
      ]
    },
    {
      "cell_type": "code",
      "execution_count": 15,
      "metadata": {
        "id": "UCApXIDNbtLF"
      },
      "outputs": [
        {
          "name": "stdout",
          "output_type": "stream",
          "text": [
            "tf.Tensor(6, shape=(), dtype=int32)\n",
            "tf.Tensor(6, shape=(), dtype=int32)\n"
          ]
        }
      ],
      "source": [
        "print(tf.multiply(a, b))\n",
        "print(a * b)"
      ]
    },
    {
      "cell_type": "markdown",
      "metadata": {
        "id": "XyLkPW4Db67W"
      },
      "source": [
        "### 텐서 플로우 ↔ 넘파이\n",
        "- `numpy()`\n",
        "- `tf.convet_to_tensor()`"
      ]
    },
    {
      "cell_type": "code",
      "execution_count": 16,
      "metadata": {
        "id": "c9AWzdJRb4Ez"
      },
      "outputs": [
        {
          "name": "stdout",
          "output_type": "stream",
          "text": [
            "<class 'numpy.int32'>\n"
          ]
        }
      ],
      "source": [
        "c = tf.add(a, b).numpy()\n",
        "print(type(c))"
      ]
    },
    {
      "cell_type": "code",
      "execution_count": 18,
      "metadata": {
        "id": "ql4O755kcfnk"
      },
      "outputs": [
        {
          "name": "stdout",
          "output_type": "stream",
          "text": [
            "tf.Tensor(25.0, shape=(), dtype=float32)\n",
            "<class 'tensorflow.python.framework.ops.EagerTensor'>\n"
          ]
        }
      ],
      "source": [
        "c_square = np.square(c, dtype=np.float32)\n",
        "c_tensor = tf.convert_to_tensor(c_square)\n",
        "\n",
        "print(c_tensor)\n",
        "print(type(c_tensor))"
      ]
    },
    {
      "cell_type": "markdown",
      "metadata": {
        "id": "LmWKhcWVk00O"
      },
      "source": [
        "### 넘파이처럼 사용하기\n"
      ]
    },
    {
      "cell_type": "code",
      "execution_count": 19,
      "metadata": {
        "id": "0on9RGRllNnX"
      },
      "outputs": [
        {
          "name": "stdout",
          "output_type": "stream",
          "text": [
            "(2, 3)\n",
            "<dtype: 'float32'>\n"
          ]
        }
      ],
      "source": [
        "t = tf.constant([[1., 2., 3.], [4., 5., 6.]])\n",
        "print(t.shape)\n",
        "print(t.dtype)"
      ]
    },
    {
      "cell_type": "code",
      "execution_count": 20,
      "metadata": {
        "id": "lhlyV7oklUIh"
      },
      "outputs": [
        {
          "name": "stdout",
          "output_type": "stream",
          "text": [
            "tf.Tensor(\n",
            "[[2. 3.]\n",
            " [5. 6.]], shape=(2, 2), dtype=float32)\n"
          ]
        }
      ],
      "source": [
        "print(t[:, 1:])"
      ]
    },
    {
      "cell_type": "code",
      "execution_count": 21,
      "metadata": {
        "id": "glWL8MITlo7H"
      },
      "outputs": [
        {
          "data": {
            "text/plain": [
              "<tf.Tensor: shape=(2, 1), dtype=float32, numpy=\n",
              "array([[2.],\n",
              "       [5.]], dtype=float32)>"
            ]
          },
          "execution_count": 21,
          "metadata": {},
          "output_type": "execute_result"
        }
      ],
      "source": [
        "t[..., 1, tf.newaxis]"
      ]
    },
    {
      "cell_type": "code",
      "execution_count": 22,
      "metadata": {
        "id": "RtzQuhwnmRdu"
      },
      "outputs": [
        {
          "data": {
            "text/plain": [
              "<tf.Tensor: shape=(2, 3), dtype=float32, numpy=\n",
              "array([[11., 12., 13.],\n",
              "       [14., 15., 16.]], dtype=float32)>"
            ]
          },
          "execution_count": 22,
          "metadata": {},
          "output_type": "execute_result"
        }
      ],
      "source": [
        "t + 10"
      ]
    },
    {
      "cell_type": "code",
      "execution_count": 24,
      "metadata": {
        "id": "Z5wQhZ0xmRi6"
      },
      "outputs": [
        {
          "data": {
            "text/plain": [
              "<tf.Tensor: shape=(2, 3), dtype=float32, numpy=\n",
              "array([[ 1.,  4.,  9.],\n",
              "       [16., 25., 36.]], dtype=float32)>"
            ]
          },
          "execution_count": 24,
          "metadata": {},
          "output_type": "execute_result"
        }
      ],
      "source": [
        "tf.square(t)"
      ]
    },
    {
      "cell_type": "code",
      "execution_count": 25,
      "metadata": {
        "id": "Fj9RmYc6mRVh"
      },
      "outputs": [
        {
          "data": {
            "text/plain": [
              "<tf.Tensor: shape=(2, 2), dtype=float32, numpy=\n",
              "array([[14., 32.],\n",
              "       [32., 77.]], dtype=float32)>"
            ]
          },
          "execution_count": 25,
          "metadata": {},
          "output_type": "execute_result"
        }
      ],
      "source": [
        "t @ tf.transpose(t)"
      ]
    },
    {
      "cell_type": "markdown",
      "metadata": {
        "id": "8y5wUIfpuhzL"
      },
      "source": [
        "### 타입 변환\n",
        "- 텐서의 기본 dtype\n",
        "  - float형 텐서: `float32`\n",
        "  - int형 텐서: `int32`\n",
        "\n",
        "- 연산시 텐서의 타입을 맞춰줘야 함\n",
        "  - `float32` ~ `float32`\n",
        "  - `int32` ~ `int32`\n",
        "  - `flot32` ~ `int32` (x)\n",
        "\n",
        "- 타입변환에는 `tf.cast()` 사용"
      ]
    },
    {
      "cell_type": "code",
      "execution_count": 27,
      "metadata": {
        "id": "RMwFpHCAvEFG"
      },
      "outputs": [
        {
          "name": "stdout",
          "output_type": "stream",
          "text": [
            "tf.Tensor(2, shape=(), dtype=int32)\n",
            "tf.Tensor(2.0, shape=(), dtype=float32)\n"
          ]
        }
      ],
      "source": [
        "a = tf.constant(2)\n",
        "b = tf.constant(2.)\n",
        "print(a)\n",
        "print(b)"
      ]
    },
    {
      "cell_type": "code",
      "execution_count": 30,
      "metadata": {
        "id": "rVb9KZSKui_c"
      },
      "outputs": [],
      "source": [
        "# tf.constant(2.) + tf.constant(2)"
      ]
    },
    {
      "cell_type": "code",
      "execution_count": 33,
      "metadata": {
        "id": "-Lz79b8Fumsy"
      },
      "outputs": [],
      "source": [
        "# tf.constant(2.) + tf.constant(2., dtype=tf.float64)"
      ]
    },
    {
      "cell_type": "code",
      "execution_count": 34,
      "metadata": {
        "id": "qH2HEmwIvbUx"
      },
      "outputs": [
        {
          "name": "stdout",
          "output_type": "stream",
          "text": [
            "tf.Tensor(32.0, shape=(), dtype=float32)\n"
          ]
        }
      ],
      "source": [
        "t = tf.constant(30., dtype=tf.float64)\n",
        "t2 = tf.constant(2.)\n",
        "\n",
        "print(tf.cast(t, dtype=tf.float32) + t2)"
      ]
    },
    {
      "cell_type": "markdown",
      "metadata": {
        "id": "E3IX5JwVZePH"
      },
      "source": [
        "### AutoGraph (오토그래프)\n",
        "\n",
        "- Tensorflow가 작업을 좀 더 빠르게 동작하게 하기 위한 방법으로 Graph로 만들어 연산을 진행\n",
        "\n",
        "- `tf.Graph`\n",
        "\n",
        "- 유연성이 있음\n",
        "\n",
        "  - 모바일 애플리케이션, 임베디드 기기, 백엔드 서버와 같이 Python 인터프리터가 없는 환경에서 Tensorflow 사용 가능 "
      ]
    },
    {
      "cell_type": "code",
      "execution_count": 35,
      "metadata": {
        "id": "78VD-XWRaea5"
      },
      "outputs": [],
      "source": [
        "import timeit"
      ]
    },
    {
      "cell_type": "markdown",
      "metadata": {
        "id": "YxNt6nejc8Ei"
      },
      "source": [
        "### @tf.function\n",
        "- 자동으로 그래프를 생성(Auto Graph)\n",
        "\n",
        "- 그래프로 변환하여 사용 -> GPU 연산 가능\n",
        "\n",
        "- 파이썬으로 구성된 함수를 텐서플로우의 그래프 형태로 다루고 싶을 때 사용가능\n",
        "\n",
        "\n",
        "- 원본 함수가 필요하다면 `(tf.function).python_function()`"
      ]
    },
    {
      "cell_type": "code",
      "execution_count": 37,
      "metadata": {
        "id": "gq5NFuLjcukw"
      },
      "outputs": [
        {
          "name": "stdout",
          "output_type": "stream",
          "text": [
            "tf.Tensor(-13, shape=(), dtype=int32)\n",
            "tf.Tensor(-13, shape=(), dtype=int32)\n"
          ]
        }
      ],
      "source": [
        "@tf.function\n",
        "def my_function(x):\n",
        "    return x**2 -10*x + 3\n",
        "\n",
        "print(my_function(2))\n",
        "print(my_function(tf.constant(2)))"
      ]
    },
    {
      "cell_type": "code",
      "execution_count": 38,
      "metadata": {
        "id": "hR3RAAIQd8J7"
      },
      "outputs": [
        {
          "name": "stdout",
          "output_type": "stream",
          "text": [
            "-13\n",
            "tf.Tensor(-13, shape=(), dtype=int32)\n"
          ]
        }
      ],
      "source": [
        "def my_function_(x):\n",
        "    return x**2 -10*x + 3\n",
        "\n",
        "print(my_function_(2))\n",
        "print(my_function_(tf.constant(2)))"
      ]
    },
    {
      "cell_type": "code",
      "execution_count": 40,
      "metadata": {
        "id": "bsy3eabmy8X8"
      },
      "outputs": [
        {
          "name": "stdout",
          "output_type": "stream",
          "text": [
            "<tensorflow.python.eager.def_function.Function object at 0x7f8a8e6b5a90>\n",
            "tf.Tensor(-13, shape=(), dtype=int32)\n"
          ]
        }
      ],
      "source": [
        "tf_my_func = tf.function(my_function_)\n",
        "\n",
        "print(tf_my_func)\n",
        "print(tf_my_func(2))"
      ]
    },
    {
      "cell_type": "code",
      "execution_count": 41,
      "metadata": {
        "id": "TgwwgQvjzKqn"
      },
      "outputs": [
        {
          "data": {
            "text/plain": [
              "-13"
            ]
          },
          "execution_count": 41,
          "metadata": {},
          "output_type": "execute_result"
        }
      ],
      "source": [
        "tf_my_func.python_function(2)"
      ]
    },
    {
      "cell_type": "code",
      "execution_count": 44,
      "metadata": {
        "id": "1pkBOpWhaehO"
      },
      "outputs": [
        {
          "data": {
            "text/plain": [
              "array([[18.]], dtype=float32)"
            ]
          },
          "execution_count": 44,
          "metadata": {},
          "output_type": "execute_result"
        }
      ],
      "source": [
        "def function_to_get_faster(x, y, b):\n",
        "    x = tf.matmul(x, y)\n",
        "    x = x + b\n",
        "    return x\n",
        "\n",
        "a_function_that_uses_a_graph = tf.function(function_to_get_faster)\n",
        "x1 = tf.constant([[1., 2.]])\n",
        "y1 = tf.constant([[4.], [5.]])\n",
        "b1 = tf.constant(4.)\n",
        "\n",
        "a_function_that_uses_a_graph(x1, y1, b1).numpy()"
      ]
    },
    {
      "cell_type": "code",
      "execution_count": 46,
      "metadata": {
        "id": "rcLAgLKfaepn"
      },
      "outputs": [
        {
          "data": {
            "text/plain": [
              "array([[18.]], dtype=float32)"
            ]
          },
          "execution_count": 46,
          "metadata": {},
          "output_type": "execute_result"
        }
      ],
      "source": [
        "def inner_function(x, y, b):\n",
        "    x = tf.matmul(x, y)\n",
        "    x = x + b\n",
        "    return x\n",
        "\n",
        "@tf.function\n",
        "def outer_function(x):\n",
        "    y = tf.constant([[4.], [5.]])\n",
        "    b = tf.constant(4.) \n",
        "    return inner_function(x, y, b)\n",
        "\n",
        "outer_function(tf.constant([[1., 2.]])).numpy()"
      ]
    },
    {
      "cell_type": "markdown",
      "metadata": {
        "id": "mXLYEP4fbSYe"
      },
      "source": [
        "텐서플로우가 `tf.function`으로 변환한 코드"
      ]
    },
    {
      "cell_type": "code",
      "execution_count": 48,
      "metadata": {
        "id": "i6cqueZuWN1g"
      },
      "outputs": [
        {
          "name": "stdout",
          "output_type": "stream",
          "text": [
            "def tf__my_function(x):\n",
            "    with ag__.FunctionScope('my_function', 'fscope', ag__.ConversionOptions(recursive=True, user_requested=True, optional_features=(), internal_convert_user_code=True)) as fscope:\n",
            "        do_return = False\n",
            "        retval_ = ag__.UndefinedReturnValue()\n",
            "        try:\n",
            "            do_return = True\n",
            "            retval_ = (((ag__.ld(x) ** 2) - (10 * ag__.ld(x))) + 3)\n",
            "        except:\n",
            "            do_return = False\n",
            "            raise\n",
            "        return fscope.ret(retval_, do_return)\n",
            "\n"
          ]
        }
      ],
      "source": [
        "print(tf.autograph.to_code(my_function.python_function))"
      ]
    },
    {
      "cell_type": "markdown",
      "metadata": {
        "id": "hf2KCJu1bdg_"
      },
      "source": [
        "\n",
        " 속도 향상\n"
      ]
    },
    {
      "cell_type": "code",
      "execution_count": 50,
      "metadata": {
        "id": "6GC4f2HvbfNT"
      },
      "outputs": [
        {
          "name": "stdout",
          "output_type": "stream",
          "text": [
            "Eager time: 18.835210449999977\n",
            "Graph time: 8.30889167999976\n"
          ]
        }
      ],
      "source": [
        "class SequentialModel(tf.keras.Model):\n",
        "    def __init__(self, **kwargs):\n",
        "        super(SequentialModel, self).__init__(**kwargs)\n",
        "        self.flatten = tf.keras.layers.Flatten(input_shape=(28, 28))\n",
        "        self.dense_1 = tf.keras.layers.Dense(128, activation='relu')\n",
        "        self.dropout = tf.keras.layers.Dropout(0.2)\n",
        "        self.dense_2 = tf.keras.layers.Dense(10)\n",
        "\n",
        "    def call(self, x):\n",
        "        x = self.flatten(x)\n",
        "        x = self.dense_1(x)\n",
        "        x = self.dropout(x)\n",
        "        x = self.dense_2(x)\n",
        "        return x\n",
        "\n",
        "input_data = tf.random.uniform([60, 28, 28])\n",
        "\n",
        "eager_model = SequentialModel()\n",
        "graph_model = tf.function(eager_model)\n",
        "\n",
        "print(\"Eager time:\", timeit.timeit(lambda:eager_model(input_data), number=10000))\n",
        "print(\"Graph time:\", timeit.timeit(lambda:graph_model(input_data), number=10000))"
      ]
    },
    {
      "cell_type": "markdown",
      "metadata": {
        "id": "EizHAodregRR"
      },
      "source": [
        "### 변수 생성\n",
        "\n",
        "- `tf.Variable`\n",
        "- 딥러닝 모델 학습 시, 그래프 연산이 필요할 때 사용"
      ]
    },
    {
      "cell_type": "code",
      "execution_count": 51,
      "metadata": {
        "id": "PybmfPcAeH-S"
      },
      "outputs": [
        {
          "name": "stdout",
          "output_type": "stream",
          "text": [
            "<tf.Variable 'Variable:0' shape=() dtype=float32, numpy=20.0>\n"
          ]
        }
      ],
      "source": [
        "X = tf.Variable(20.0)\n",
        "print(X)"
      ]
    },
    {
      "cell_type": "markdown",
      "metadata": {
        "id": "qY_oUvVneiHH"
      },
      "source": [
        "### Autograd (자동 미분)\n",
        "\n",
        "- `tf.GradientTape` API를 사용\n",
        "- `tf.Variable` 같은 일부 입력에 대한 기울기 계산\n",
        "  - 기본적으로 한번만 사용됨\n",
        "- 변수가 포함된 연산만 기록"
      ]
    },
    {
      "cell_type": "code",
      "execution_count": 52,
      "metadata": {
        "id": "4_lrTYZfeiHO"
      },
      "outputs": [],
      "source": [
        "x = tf.Variable(3.0)\n",
        "\n",
        "with tf.GradientTape() as tape:\n",
        "    y = x**2"
      ]
    },
    {
      "cell_type": "code",
      "execution_count": 53,
      "metadata": {
        "id": "1Tq7MMJTeiHQ"
      },
      "outputs": [
        {
          "data": {
            "text/plain": [
              "6.0"
            ]
          },
          "execution_count": 53,
          "metadata": {},
          "output_type": "execute_result"
        }
      ],
      "source": [
        "dy_dx = tape.gradient(y, x)\n",
        "dy_dx.numpy()"
      ]
    },
    {
      "cell_type": "code",
      "execution_count": 55,
      "metadata": {
        "id": "y0wty7V3eiHT"
      },
      "outputs": [],
      "source": [
        "# x2 = tf.Variable(4.)\n",
        "# dy_dx = tape.gradient(y, x)\n",
        "# dy_dx.numpy()"
      ]
    },
    {
      "cell_type": "code",
      "execution_count": 58,
      "metadata": {
        "id": "itJftqGlfWmy"
      },
      "outputs": [
        {
          "name": "stdout",
          "output_type": "stream",
          "text": [
            "dz/dx: tf.Tensor(4.0, shape=(), dtype=float32)\n",
            "dz/dy: None\n"
          ]
        }
      ],
      "source": [
        "x = tf.Variable(2.0)\n",
        "y = tf.Variable(3.0)\n",
        "\n",
        "with tf.GradientTape() as tape:\n",
        "    y_sq = y**2\n",
        "    z = x**2 + tf.stop_gradient(y_sq)\n",
        "\n",
        "grad = tape.gradient(z, {'x':x, 'y':y})\n",
        "\n",
        "print('dz/dx:', grad['x'])\n",
        "print('dz/dy:', grad['y'])"
      ]
    },
    {
      "cell_type": "code",
      "execution_count": 188,
      "metadata": {
        "id": "Np-JoGSneiHW"
      },
      "outputs": [],
      "source": [
        "weights = tf.Variable(tf.random.normal((3, 2)), name='weights')\n",
        "biases = tf.Variable(tf.zeros(2, dtype=tf.float32), name='biases')\n",
        "x = [[1., 2., 3.]]\n",
        "\n",
        "with tf.GradientTape(persistent=True) as tape:\n",
        "    y = x @ weights + biases\n",
        "    loss = tf.reduce_mean(y**2)"
      ]
    },
    {
      "cell_type": "code",
      "execution_count": 189,
      "metadata": {
        "id": "OMhB1rONeiHY"
      },
      "outputs": [],
      "source": [
        "[dl_dw, dl_db] = tape.gradient(loss, [weights, biases])"
      ]
    },
    {
      "cell_type": "code",
      "execution_count": 190,
      "metadata": {
        "id": "7mS4UrqgeiHa"
      },
      "outputs": [
        {
          "name": "stdout",
          "output_type": "stream",
          "text": [
            "(3, 2)\n",
            "(3, 2)\n"
          ]
        }
      ],
      "source": [
        "print(weights.shape)\n",
        "print(dl_dw.shape)"
      ]
    },
    {
      "cell_type": "code",
      "execution_count": 196,
      "metadata": {
        "id": "b1X3900EeiHd"
      },
      "outputs": [],
      "source": [
        "del tape"
      ]
    },
    {
      "cell_type": "markdown",
      "metadata": {
        "id": "FcG5ddWTgjMq"
      },
      "source": [
        "## 간단한 신경망 구조 "
      ]
    },
    {
      "cell_type": "markdown",
      "metadata": {
        "id": "fXE8tlU7gkrV"
      },
      "source": [
        "### 뉴런\n",
        "- 입력 → 연산 → 활성화함수 → 출력"
      ]
    },
    {
      "cell_type": "code",
      "execution_count": 211,
      "metadata": {
        "id": "B-DUt6cZe7iD"
      },
      "outputs": [],
      "source": [
        "def sigmoid(x):\n",
        "    return (1 / (1 + np.exp(-x)))\n",
        "\n",
        "def Neuron(x, W, bias=0):\n",
        "    z = x * W + bias\n",
        "    return sigmoid(z)"
      ]
    },
    {
      "cell_type": "code",
      "execution_count": 212,
      "metadata": {
        "id": "r8baxM6mg_XQ"
      },
      "outputs": [
        {
          "name": "stdout",
          "output_type": "stream",
          "text": [
            "(1, 2)\n",
            "(1, 2)\n",
            "tf.Tensor([[1.1401309 2.4728029]], shape=(1, 2), dtype=float32)\n",
            "tf.Tensor([[-0.58266205 -0.40084976]], shape=(1, 2), dtype=float32)\n",
            "[[0.33977184 0.27067068]]\n"
          ]
        }
      ],
      "source": [
        "x = tf.random.normal((1, 2), 0, 1)\n",
        "W = tf.random.normal((1, 2), 0, 1)\n",
        "\n",
        "print(x.shape)\n",
        "print(W.shape)\n",
        "\n",
        "print(x)\n",
        "print(W)\n",
        "\n",
        "print(Neuron(x, W))"
      ]
    },
    {
      "cell_type": "code",
      "execution_count": 213,
      "metadata": {
        "id": "I7D57W93htFt"
      },
      "outputs": [
        {
          "name": "stdout",
          "output_type": "stream",
          "text": [
            "(2, 1)\n",
            "(2, 1)\n",
            "tf.Tensor(\n",
            "[[-0.7824349]\n",
            " [-0.6772485]], shape=(2, 1), dtype=float32)\n",
            "tf.Tensor(\n",
            "[[0.29066992]\n",
            " [0.16555256]], shape=(2, 1), dtype=float32)\n",
            "[[0.44338626]\n",
            " [0.47199923]]\n"
          ]
        }
      ],
      "source": [
        "x = tf.random.normal((2, 1), 0, 1)\n",
        "W = tf.random.normal((2, 1), 0, 1)\n",
        "\n",
        "print(x.shape)\n",
        "print(W.shape)\n",
        "\n",
        "print(x)\n",
        "print(W)\n",
        "\n",
        "print(Neuron(x, W))"
      ]
    },
    {
      "cell_type": "code",
      "execution_count": 214,
      "metadata": {
        "id": "IKeoXsJBhzPk"
      },
      "outputs": [
        {
          "name": "stdout",
          "output_type": "stream",
          "text": [
            "(1,)\n",
            "(1, 2)\n",
            "tf.Tensor([-1.0191058], shape=(1,), dtype=float32)\n",
            "tf.Tensor([[ 0.09772497 -0.08771219]], shape=(1, 2), dtype=float32)\n",
            "[[0.47512254 0.52233213]]\n"
          ]
        }
      ],
      "source": [
        "x = tf.random.normal((1,), 0, 1)\n",
        "W = tf.random.normal((1, 2), 0, 1)\n",
        "\n",
        "print(x.shape)\n",
        "print(W.shape)\n",
        "\n",
        "print(x)\n",
        "print(W)\n",
        "\n",
        "print(Neuron(x, W))"
      ]
    },
    {
      "cell_type": "markdown",
      "metadata": {
        "id": "ATmvx1utmmMl"
      },
      "source": [
        "### 퍼셉트론 학습 알고리즘 (가중치 업데이트)\n",
        "\n",
        "## $\\qquad w^{(next step)} = w + \\eta \\ (y - \\tilde{y}) \\ x$\n",
        "\n",
        "- $w \\ $: 가중치\n",
        "\n",
        "- $\\eta \\ $ : 학습률\n",
        "\n",
        "- $y \\ $ : 정답 레이블\n",
        "\n",
        "- $\\tilde{y} \\ $: 예측 레이블\n"
      ]
    },
    {
      "cell_type": "code",
      "execution_count": 215,
      "metadata": {
        "id": "7f-3qRCHXO9m"
      },
      "outputs": [
        {
          "name": "stdout",
          "output_type": "stream",
          "text": [
            "[0.57535005]\n",
            "y: 0\n"
          ]
        }
      ],
      "source": [
        "x = 1\n",
        "y = 0\n",
        "W = tf.random.normal([1], 0, 1)\n",
        "print(Neuron(x, W))\n",
        "print('y:', y)"
      ]
    },
    {
      "cell_type": "code",
      "execution_count": 216,
      "metadata": {
        "id": "S8JG-rbdml_v"
      },
      "outputs": [
        {
          "name": "stdout",
          "output_type": "stream",
          "text": [
            "100\t[-0.10750252]\t[0.10750252]\n",
            "200\t[-0.05380338]\t[0.05380338]\n",
            "300\t[-0.03549631]\t[0.03549631]\n",
            "400\t[-0.02639827]\t[0.02639827]\n",
            "500\t[-0.02098298]\t[0.02098298]\n",
            "600\t[-0.01739855]\t[0.01739855]\n",
            "700\t[-0.01485374]\t[0.01485374]\n",
            "800\t[-0.01295485]\t[0.01295485]\n",
            "900\t[-0.01148433]\t[0.01148433]\n",
            "1000\t[-0.01031229]\t[0.01031229]\n"
          ]
        }
      ],
      "source": [
        "for i in range(1000):\n",
        "    output = Neuron(x, W)\n",
        "    error = y - output\n",
        "    W = W + 0.1 * error * x\n",
        "\n",
        "    if i % 100 == 99:\n",
        "        print('{}\\t{}\\t{}'.format(i+1, error, output))"
      ]
    },
    {
      "cell_type": "code",
      "execution_count": 219,
      "metadata": {
        "id": "vrJKCpf0VyOR"
      },
      "outputs": [],
      "source": [
        "def Neuron2(x, W, bias=0):\n",
        "    z = tf.matmul(x, W, transpose_b=True) + bias\n",
        "    return sigmoid(z)"
      ]
    },
    {
      "cell_type": "code",
      "execution_count": 224,
      "metadata": {
        "id": "dkLHtKQ8htRg"
      },
      "outputs": [
        {
          "name": "stdout",
          "output_type": "stream",
          "text": [
            "[[0.37088948]]\n",
            "y: tf.Tensor([1.], shape=(1,), dtype=float32)\n"
          ]
        }
      ],
      "source": [
        "x = tf.random.normal((1, 3), 0, 1)\n",
        "y = tf.ones(1)\n",
        "W = tf.random.normal((1, 3), 0, 1)\n",
        "\n",
        "print(Neuron2(x, W))\n",
        "print(\"y:\", y)"
      ]
    },
    {
      "cell_type": "code",
      "execution_count": 225,
      "metadata": {
        "id": "udZu2_rQo1SH"
      },
      "outputs": [
        {
          "name": "stdout",
          "output_type": "stream",
          "text": [
            "100\t[[0.45822698]]\t[[0.541773]]\n",
            "200\t[[0.33644617]]\t[[0.66355383]]\n",
            "300\t[[0.2569952]]\t[[0.7430048]]\n",
            "400\t[[0.20431787]]\t[[0.79568213]]\n",
            "500\t[[0.16794169]]\t[[0.8320583]]\n",
            "600\t[[0.14175117]]\t[[0.85824883]]\n",
            "700\t[[0.12218785]]\t[[0.87781215]]\n",
            "800\t[[0.10711366]]\t[[0.89288634]]\n",
            "900\t[[0.09519279]]\t[[0.9048072]]\n",
            "1000\t[[0.08555794]]\t[[0.91444206]]\n"
          ]
        }
      ],
      "source": [
        "for i in range(1000):\n",
        "    output = Neuron2(x, W)\n",
        "    error = y - output\n",
        "    W = W + 0.1 * error * x\n",
        "\n",
        "    if i % 100 == 99:\n",
        "        print(\"{}\\t{}\\t{}\".format(i+1, error, output))"
      ]
    },
    {
      "cell_type": "code",
      "execution_count": 226,
      "metadata": {
        "id": "X7rw7DAxbCcu"
      },
      "outputs": [
        {
          "name": "stdout",
          "output_type": "stream",
          "text": [
            "x\t: [[-0.1844618  -1.6017714   0.20122375]]\n",
            "weights\t: [[-0.11100892 -2.227262    0.7351874 ]]\n",
            "bias\t: [[0.]]\n"
          ]
        }
      ],
      "source": [
        "x = tf.random.normal((1, 3), 0, 1)\n",
        "weights = tf.random.normal((1, 3), 0, 1)\n",
        "bias = tf.zeros((1, 1))\n",
        "y = tf.ones((1, ))\n",
        "\n",
        "print(\"x\\t: {}\\nweights\\t: {}\\nbias\\t: {}\".format(x, weights, bias))"
      ]
    },
    {
      "cell_type": "code",
      "execution_count": 227,
      "metadata": {
        "id": "Of-hjiq1pKF2"
      },
      "outputs": [
        {
          "name": "stdout",
          "output_type": "stream",
          "text": [
            "100\t[[0.0127449]]\t[[0.9872551]]\n",
            "200\t[[0.0087297]]\t[[0.9912703]]\n",
            "300\t[[0.00663453]]\t[[0.99336547]]\n",
            "400\t[[0.00534898]]\t[[0.994651]]\n",
            "500\t[[0.00448012]]\t[[0.9955199]]\n",
            "600\t[[0.0038538]]\t[[0.9961462]]\n",
            "700\t[[0.00338089]]\t[[0.9966191]]\n",
            "800\t[[0.00301129]]\t[[0.9969887]]\n",
            "900\t[[0.0027144]]\t[[0.9972856]]\n",
            "1000\t[[0.00247079]]\t[[0.9975292]]\n"
          ]
        }
      ],
      "source": [
        "for i in range(1000):\n",
        "    output = Neuron2(x, weights, bias=bias)\n",
        "    error = y - output\n",
        "    weights = weights + 0.1 * error * x\n",
        "    bias = bias + 0.1 * error\n",
        "\n",
        "    if i % 100 == 99:\n",
        "        print(\"{}\\t{}\\t{}\".format(i+1, error, output))"
      ]
    },
    {
      "cell_type": "code",
      "execution_count": 228,
      "metadata": {
        "id": "KHVs1hALZ_bA"
      },
      "outputs": [
        {
          "name": "stdout",
          "output_type": "stream",
          "text": [
            "x\t: [[-0.1844618  -1.6017714   0.20122375]]\n",
            "weights\t: [[-0.22581843 -3.224207    0.8604291 ]]\n",
            "bias\t: [[0.62240237]]\n"
          ]
        }
      ],
      "source": [
        "print(\"x\\t: {}\\nweights\\t: {}\\nbias\\t: {}\".format(x, weights, bias))"
      ]
    },
    {
      "cell_type": "markdown",
      "metadata": {
        "id": "LQ-syOVwfjB9"
      },
      "source": [
        "### AND Gate"
      ]
    },
    {
      "cell_type": "code",
      "execution_count": 234,
      "metadata": {
        "id": "HyRma3NorTRs"
      },
      "outputs": [
        {
          "name": "stdout",
          "output_type": "stream",
          "text": [
            "Epoch    0\tError Sum [-1.5249026]\n",
            "Epoch  200\tError Sum [-0.11858908]\n",
            "Epoch  400\tError Sum [-0.06852526]\n",
            "Epoch  600\tError Sum [-0.04810126]\n",
            "Epoch  800\tError Sum [-0.03694557]\n",
            "Epoch 1000\tError Sum [-0.02993229]\n",
            "Epoch 1200\tError Sum [-0.02512719]\n",
            "Epoch 1400\tError Sum [-0.02163343]\n",
            "Epoch 1600\tError Sum [-0.0189828]\n",
            "Epoch 1800\tError Sum [-0.01690365]\n",
            "\n",
            "가중치\t:[6.9517922 6.954959 ]\n",
            "\n",
            "편향\t:[-11.606874]\n"
          ]
        }
      ],
      "source": [
        "X = np.array([[1, 1], [1, 0], [0, 1], [0, 0]])\n",
        "Y = np.array([[1], [0], [0], [0]])\n",
        "\n",
        "W = tf.random.normal([2], 0, 1)\n",
        "b = tf.random.normal([1], 0, 1)\n",
        "b_x = 1\n",
        "\n",
        "for i in range(2000):\n",
        "    error_sum = 0\n",
        "\n",
        "    for j in range(4):\n",
        "        output = sigmoid(np.sum(X[j]*W) + b_x + b)\n",
        "        error = Y[j][0] - output\n",
        "        W = W + X[j] * 0.1 * error\n",
        "        b = b + b_x * 0.1 * error\n",
        "        error_sum += error\n",
        "\n",
        "    if i % 200 == 0:\n",
        "        print(\"Epoch {:4d}\\tError Sum {}\".format(i, error_sum))\n",
        "\n",
        "print(\"\\n가중치\\t:{}\".format(W))\n",
        "print(\"\\n편향\\t:{}\".format(b))\n"
      ]
    },
    {
      "cell_type": "code",
      "execution_count": 235,
      "metadata": {
        "id": "OylWtem2stH0"
      },
      "outputs": [
        {
          "name": "stdout",
          "output_type": "stream",
          "text": [
            "X: [1 1] Y: [1] Ouput: [0.96442467]\n",
            "X: [1 0] Y: [0] Ouput: [0.02520752]\n",
            "X: [0 1] Y: [0] Ouput: [0.02528545]\n",
            "X: [0 0] Y: [0] Ouput: [2.4744699e-05]\n"
          ]
        }
      ],
      "source": [
        "for i in range(4):\n",
        "    print(\"X: {} Y: {} Ouput: {}\".format(X[i], Y[i], sigmoid(np.sum(X[i]*W)+ b + b_x)))"
      ]
    },
    {
      "cell_type": "markdown",
      "metadata": {
        "id": "pADtZrsagJ64"
      },
      "source": [
        "### OR Gate"
      ]
    },
    {
      "cell_type": "code",
      "execution_count": 236,
      "metadata": {
        "id": "X1drqmeNuxIU"
      },
      "outputs": [
        {
          "name": "stdout",
          "output_type": "stream",
          "text": [
            "Epoch    0\tError Sum [0.22575694]\n",
            "Epoch  200\tError Sum [-0.04814874]\n",
            "Epoch  400\tError Sum [-0.02547637]\n",
            "Epoch  600\tError Sum [-0.01721254]\n",
            "Epoch  800\tError Sum [-0.01295248]\n",
            "Epoch 1000\tError Sum [-0.01036394]\n",
            "Epoch 1200\tError Sum [-0.0086287]\n",
            "Epoch 1400\tError Sum [-0.00738684]\n",
            "Epoch 1600\tError Sum [-0.00645394]\n",
            "Epoch 1800\tError Sum [-0.00572991]\n",
            "\n",
            "가중치\t:[8.214405 8.213754]\n",
            "\n",
            "편향\t:[-4.641511]\n"
          ]
        }
      ],
      "source": [
        "X2 = np.array([[1, 1], [1, 0], [0, 1], [0, 0]])\n",
        "Y2 = np.array([[1], [1], [1], [0]])\n",
        "\n",
        "W2 = tf.random.normal([2], 0, 1)\n",
        "b2 = tf.random.normal([1], 0, 1)\n",
        "b_x = 1\n",
        "\n",
        "for i in range(2000):\n",
        "    error_sum = 0\n",
        "\n",
        "    for j in range(4):\n",
        "        output = sigmoid(np.sum(X2[j]*W2) + b_x + b2)\n",
        "        error = Y2[j][0] - output\n",
        "        W2 = W2 + X2[j] * 0.1 * error\n",
        "        b2 = b2 + b_x * 0.1 * error\n",
        "        error_sum += error\n",
        "\n",
        "    if i % 200 == 0:\n",
        "        print(\"Epoch {:4d}\\tError Sum {}\".format(i, error_sum))\n",
        "\n",
        "print(\"\\n가중치\\t:{}\".format(W2))\n",
        "print(\"\\n편향\\t:{}\".format(b2))\n"
      ]
    },
    {
      "cell_type": "code",
      "execution_count": 237,
      "metadata": {
        "id": "FGG4_ZXGgLNd"
      },
      "outputs": [
        {
          "name": "stdout",
          "output_type": "stream",
          "text": [
            "X: [1 1] Y: [1] Ouput: [0.99999726]\n",
            "X: [1 0] Y: [1] Ouput: [0.9897775]\n",
            "X: [0 1] Y: [1] Ouput: [0.989771]\n",
            "X: [0 0] Y: [0] Ouput: [0.02554315]\n"
          ]
        }
      ],
      "source": [
        "for i in range(4):\n",
        "    print(\"X: {} Y: {} Ouput: {}\".format(X2[i], Y2[i], sigmoid(np.sum(X2[i]*W2)+ b2 + b_x)))"
      ]
    },
    {
      "cell_type": "markdown",
      "metadata": {
        "id": "IQyeNLdagPw1"
      },
      "source": [
        "### XOR Gate"
      ]
    },
    {
      "cell_type": "code",
      "execution_count": 238,
      "metadata": {
        "id": "W-BYPnNBgNd9"
      },
      "outputs": [
        {
          "name": "stdout",
          "output_type": "stream",
          "text": [
            "Epoch    0\tError Sum [-1.4889969]\n",
            "Epoch  200\tError Sum [-0.00617796]\n",
            "Epoch  400\tError Sum [-0.00025105]\n",
            "Epoch  600\tError Sum [-1.013279e-05]\n",
            "Epoch  800\tError Sum [-8.34465e-07]\n",
            "Epoch 1000\tError Sum [-1.013279e-06]\n",
            "Epoch 1200\tError Sum [-1.013279e-06]\n",
            "Epoch 1400\tError Sum [-1.013279e-06]\n",
            "Epoch 1600\tError Sum [-1.013279e-06]\n",
            "Epoch 1800\tError Sum [-1.013279e-06]\n",
            "\n",
            "가중치\t:[ 5.1279660e-02 -2.0749867e-06]\n",
            "\n",
            "편향\t:[-0.9999969]\n"
          ]
        }
      ],
      "source": [
        "X3 = np.array([[1, 1], [1, 0], [0, 1], [0, 0]])\n",
        "Y3 = np.array([[0], [1], [1], [0]])\n",
        "\n",
        "W3 = tf.random.normal([2], 0, 1)\n",
        "b3 = tf.random.normal([1], 0, 1)\n",
        "b_x = 1\n",
        "\n",
        "for i in range(2000):\n",
        "    error_sum = 0\n",
        "\n",
        "    for j in range(4):\n",
        "        output = sigmoid(np.sum(X3[j]*W3) + b_x + b3)\n",
        "        error = Y3[j][0] - output\n",
        "        W3 = W3 + X3[j] * 0.1 * error\n",
        "        b3 = b3 + b_x * 0.1 * error\n",
        "        error_sum += error\n",
        "\n",
        "    if i % 200 == 0:\n",
        "        print(\"Epoch {:4d}\\tError Sum {}\".format(i, error_sum))\n",
        "\n",
        "print(\"\\n가중치\\t:{}\".format(W3))\n",
        "print(\"\\n편향\\t:{}\".format(b3))"
      ]
    },
    {
      "cell_type": "code",
      "execution_count": 239,
      "metadata": {
        "id": "z1EWz3N5gRfH"
      },
      "outputs": [
        {
          "name": "stdout",
          "output_type": "stream",
          "text": [
            "X: [1 1] Y: [0] Ouput: [0.5128174]\n",
            "X: [1 0] Y: [1] Ouput: [0.51281786]\n",
            "X: [0 1] Y: [1] Ouput: [0.50000024]\n",
            "X: [0 0] Y: [0] Ouput: [0.5000008]\n"
          ]
        }
      ],
      "source": [
        "for i in range(4):\n",
        "    print(\"X: {} Y: {} Ouput: {}\".format(X3[i], Y3[i], sigmoid(np.sum(X3[i]*W3)+ b3 + b_x)))"
      ]
    },
    {
      "cell_type": "code",
      "execution_count": 253,
      "metadata": {
        "id": "duXh8GGkgUET"
      },
      "outputs": [
        {
          "name": "stdout",
          "output_type": "stream",
          "text": [
            "Model: \"sequential_4\"\n",
            "_________________________________________________________________\n",
            "Layer (type)                 Output Shape              Param #   \n",
            "=================================================================\n",
            "dense_10 (Dense)             (None, 2)                 6         \n",
            "_________________________________________________________________\n",
            "dense_11 (Dense)             (None, 1)                 3         \n",
            "=================================================================\n",
            "Total params: 9\n",
            "Trainable params: 9\n",
            "Non-trainable params: 0\n",
            "_________________________________________________________________\n"
          ]
        }
      ],
      "source": [
        "from tensorflow.keras import Sequential\n",
        "from tensorflow.keras.layers import Dense\n",
        "\n",
        "np.random.seed(111)\n",
        "\n",
        "X4 = np.array([[1, 1], [1, 0], [0, 1], [0, 0]])\n",
        "Y4 = np.array([[0], [1], [1], [0]])\n",
        "\n",
        "model = Sequential([Dense(units=2, activation='sigmoid', input_shape=(2, )),\n",
        "                    Dense(units=1, activation='sigmoid')])\n",
        "\n",
        "model.compile(optimizer=tf.keras.optimizers.SGD(learning_rate=0.1), loss='mse')\n",
        "\n",
        "model.summary()"
      ]
    },
    {
      "cell_type": "code",
      "execution_count": 254,
      "metadata": {
        "id": "HYf3E6w6gV3z"
      },
      "outputs": [],
      "source": [
        "history = model.fit(X4, Y4, epochs=2000, batch_size=1, verbose=0)"
      ]
    },
    {
      "cell_type": "code",
      "execution_count": 255,
      "metadata": {
        "id": "0ZuQIfAZgXzD"
      },
      "outputs": [
        {
          "data": {
            "text/plain": [
              "array([[0.43348765],\n",
              "       [0.7176386 ],\n",
              "       [0.71228504],\n",
              "       [0.17752445]], dtype=float32)"
            ]
          },
          "execution_count": 255,
          "metadata": {},
          "output_type": "execute_result"
        }
      ],
      "source": [
        "model.predict(X4)"
      ]
    },
    {
      "cell_type": "markdown",
      "metadata": {
        "id": "NgHTUlX68Fyk"
      },
      "source": [
        "## 시각화 사용"
      ]
    },
    {
      "cell_type": "code",
      "execution_count": 267,
      "metadata": {
        "id": "a8azIYHQ8H16"
      },
      "outputs": [
        {
          "data": {
            "image/png": "[encoded data removed]",
            "text/plain": [
              "<Figure size 432x288 with 1 Axes>"
            ]
          },
          "metadata": {},
          "output_type": "display_data"
        }
      ],
      "source": [
        "import matplotlib.pyplot as plt\n",
        "plt.style.use('seaborn-white')\n",
        "\n",
        "x = range(50)\n",
        "y = tf.random.normal([50], 0, 1)\n",
        "\n",
        "plt.plot(x, y)\n",
        "plt.show()"
      ]
    },
    {
      "cell_type": "code",
      "execution_count": 268,
      "metadata": {
        "id": "hX-S0ZvF8Hq6"
      },
      "outputs": [
        {
          "data": {
            "image/png": "[encoded data removed]",
            "text/plain": [
              "<Figure size 432x288 with 1 Axes>"
            ]
          },
          "metadata": {},
          "output_type": "display_data"
        }
      ],
      "source": [
        "x = range(50)\n",
        "y = tf.random.normal([50], 0, 1)\n",
        "\n",
        "plt.plot(x, y, 'ro')\n",
        "plt.show()"
      ]
    },
    {
      "cell_type": "code",
      "execution_count": 269,
      "metadata": {
        "id": "2teBa4878XEI"
      },
      "outputs": [
        {
          "data": {
            "image/png": "[encoded data removed]",
            "text/plain": [
              "<Figure size 432x288 with 1 Axes>"
            ]
          },
          "metadata": {},
          "output_type": "display_data"
        }
      ],
      "source": [
        "x = range(30)\n",
        "y = tf.random.normal([30], 0, 1)\n",
        "\n",
        "plt.plot(x, y, 'g-')\n",
        "plt.show()"
      ]
    },
    {
      "cell_type": "code",
      "execution_count": 270,
      "metadata": {
        "id": "43W0ygJj8XA1"
      },
      "outputs": [
        {
          "data": {
            "image/png": "[encoded data removed]",
            "text/plain": [
              "<Figure size 432x288 with 1 Axes>"
            ]
          },
          "metadata": {},
          "output_type": "display_data"
        }
      ],
      "source": [
        "x = range(50)\n",
        "y = tf.random.normal([50], 0, 1)\n",
        "\n",
        "plt.plot(x, y, 'b--')\n",
        "plt.show()"
      ]
    },
    {
      "cell_type": "code",
      "execution_count": 280,
      "metadata": {
        "id": "HkF8DN5a8fWR"
      },
      "outputs": [
        {
          "data": {
            "image/png": "[encoded data removed]",
            "text/plain": [
              "<Figure size 432x288 with 1 Axes>"
            ]
          },
          "metadata": {},
          "output_type": "display_data"
        }
      ],
      "source": [
        "random_normal = tf.random.normal([10000], 0, 1)\n",
        "plt.hist(random_normal.numpy(), bins=100)\n",
        "plt.show()"
      ]
    },
    {
      "cell_type": "markdown",
      "metadata": {
        "id": "aL-QTl5Q8mdB"
      },
      "source": [
        "### XOR Gate의 'LOSS' 시각화\n"
      ]
    },
    {
      "cell_type": "code",
      "execution_count": 265,
      "metadata": {
        "id": "vs8dlY1o8iby"
      },
      "outputs": [
        {
          "data": {
            "text/plain": [
              "[<matplotlib.lines.Line2D at 0x7f8a6ecdd880>]"
            ]
          },
          "execution_count": 265,
          "metadata": {},
          "output_type": "execute_result"
        },
        {
          "data": {
            "image/png": "[encoded data removed]",
            "text/plain": [
              "<Figure size 432x288 with 1 Axes>"
            ]
          },
          "metadata": {},
          "output_type": "display_data"
        }
      ],
      "source": [
        "plt.plot(history.history['loss'])"
      ]
    }
  ],
  "metadata": {
    "accelerator": "GPU",
    "colab": {
      "collapsed_sections": [],
      "name": "_1 텐서플로우(TensorFlow) 기초.ipynb",
      "provenance": [],
      "toc_visible": true
    },
    "kernelspec": {
      "display_name": "Python 3.8.8 ('base')",
      "language": "python",
      "name": "python3"
    },
    "language_info": {
      "codemirror_mode": {
        "name": "ipython",
        "version": 3
      },
      "file_extension": ".py",
      "mimetype": "text/x-python",
      "name": "python",
      "nbconvert_exporter": "python",
      "pygments_lexer": "ipython3",
      "version": "3.8.8"
    },
    "vscode": {
      "interpreter": {
        "hash": "3067ead486e059ec00ffe7555bdb889e6e264a24dc711bf108106cc7baee8d5d"
      }
    }
  },
  "nbformat": 4,
  "nbformat_minor": 0
}
